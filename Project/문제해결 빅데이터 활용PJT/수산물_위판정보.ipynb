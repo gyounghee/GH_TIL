{
  "nbformat": 4,
  "nbformat_minor": 0,
  "metadata": {
    "colab": {
      "name": "수산물 위판정보.ipynb",
      "provenance": [],
      "collapsed_sections": []
    },
    "kernelspec": {
      "name": "python3",
      "display_name": "Python 3"
    },
    "language_info": {
      "name": "python"
    }
  },
  "cells": [
    {
      "cell_type": "code",
      "execution_count": 2,
      "metadata": {
        "id": "4jFqwxieiooO"
      },
      "outputs": [],
      "source": [
        "import pandas as pd"
      ]
    },
    {
      "cell_type": "markdown",
      "source": [
        "# 데이터 불러오기  \n",
        "* 기간 : 22년 1월 ~ 19년 1월   \n",
        "* 용량 : 총 약 300MB  \n",
        "* 출처 : [해양수산부_수산물_위판정보](https://www.data.go.kr/data/15012417/fileData.do#layer_data_infomation)"
      ],
      "metadata": {
        "id": "NcQjEliF438D"
      }
    },
    {
      "cell_type": "code",
      "source": [
        "# 22년도   \n",
        "df_202201 = pd.read_csv('/content/drive/MyDrive/멀티캠퍼스/2조/이경희/data/해양수산부_수산물 위판정보_2022.01.csv',encoding='cp949')\n",
        "# 21년도  \n",
        "df_202112 = pd.read_csv('/content/drive/MyDrive/멀티캠퍼스/2조/이경희/data/해양수산부_수산물 위판정보_2021.12.csv',encoding='cp949')\n",
        "df_202111 = pd.read_csv('/content/drive/MyDrive/멀티캠퍼스/2조/이경희/data/해양수산부_수산물 위판정보_2021.11.csv',encoding='cp949')\n",
        "df_202110 = pd.read_csv('/content/drive/MyDrive/멀티캠퍼스/2조/이경희/data/해양수산부_수산물 위판정보_2021.10.csv',encoding='cp949')\n",
        "df_202109 = pd.read_csv('/content/drive/MyDrive/멀티캠퍼스/2조/이경희/data/해양수산부_수산물 위판정보_2021.09.csv',encoding='cp949')\n",
        "df_202108 = pd.read_csv('/content/drive/MyDrive/멀티캠퍼스/2조/이경희/data/해양수산부_수산물 위판정보_2021.08.csv',encoding='cp949')\n",
        "df_202107 = pd.read_csv('/content/drive/MyDrive/멀티캠퍼스/2조/이경희/data/해양수산부_수산물 위판정보_2021.07.csv',encoding='cp949')\n",
        "df_202106 = pd.read_csv('/content/drive/MyDrive/멀티캠퍼스/2조/이경희/data/해양수산부_수산물 위판정보_2021.06.csv',encoding='cp949')\n",
        "df_202105 = pd.read_csv('/content/drive/MyDrive/멀티캠퍼스/2조/이경희/data/해양수산부_수산물 위판정보_2021.05.csv',encoding='cp949')\n",
        "df_202104 = pd.read_csv('/content/drive/MyDrive/멀티캠퍼스/2조/이경희/data/해양수산부_수산물 위판정보_2021.04.csv',encoding='cp949')\n",
        "df_202103 = pd.read_csv('/content/drive/MyDrive/멀티캠퍼스/2조/이경희/data/해양수산부_수산물 위판정보_2021.03.csv',encoding='cp949')\n",
        "df_202102 = pd.read_csv('/content/drive/MyDrive/멀티캠퍼스/2조/이경희/data/해양수산부_수산물 위판정보_2021.02.csv',encoding='cp949')\n",
        "df_202101 = pd.read_csv('/content/drive/MyDrive/멀티캠퍼스/2조/이경희/data/해양수산부_수산물 위판정보_2021.01.csv',encoding='cp949')\n",
        "# 20년도  \n",
        "df_202012 = pd.read_csv('/content/drive/MyDrive/멀티캠퍼스/2조/이경희/data/해양수산부_수산물 위판정보_2020.12.csv',encoding='cp949')\n",
        "df_202011 = pd.read_csv('/content/drive/MyDrive/멀티캠퍼스/2조/이경희/data/해양수산부_수산물 위판정보_2020.11.csv',encoding='cp949')\n",
        "df_202010 = pd.read_csv('/content/drive/MyDrive/멀티캠퍼스/2조/이경희/data/해양수산부_수산물 위판정보_2020.10.csv',encoding='cp949')\n",
        "df_202009 = pd.read_csv('/content/drive/MyDrive/멀티캠퍼스/2조/이경희/data/해양수산부_수산물 위판정보_2020.09.csv',encoding='cp949')\n",
        "df_202008 = pd.read_csv('/content/drive/MyDrive/멀티캠퍼스/2조/이경희/data/해양수산부_수산물 위판정보_2020.08.csv',encoding='cp949')\n",
        "df_202007 = pd.read_csv('/content/drive/MyDrive/멀티캠퍼스/2조/이경희/data/해양수산부_수산물 위판정보_2020.07.csv',encoding='cp949')\n",
        "df_202006 = pd.read_csv('/content/drive/MyDrive/멀티캠퍼스/2조/이경희/data/해양수산부_수산물 위판정보_2020.06.csv',encoding='cp949')\n",
        "df_202005 = pd.read_csv('/content/drive/MyDrive/멀티캠퍼스/2조/이경희/data/해양수산부_수산물 위판정보_2020.05.csv',encoding='cp949')\n",
        "df_202004 = pd.read_csv('/content/drive/MyDrive/멀티캠퍼스/2조/이경희/data/해양수산부_수산물 위판정보_2020.04.csv',encoding='cp949')\n",
        "df_202003 = pd.read_csv('/content/drive/MyDrive/멀티캠퍼스/2조/이경희/data/해양수산부_수산물 위판정보_2020.03.csv',encoding='cp949')\n",
        "df_202002 = pd.read_csv('/content/drive/MyDrive/멀티캠퍼스/2조/이경희/data/해양수산부_수산물 위판정보_2020.02.csv',encoding='cp949')\n",
        "df_202001 = pd.read_csv('/content/drive/MyDrive/멀티캠퍼스/2조/이경희/data/해양수산부_수산물 위판정보_2020.01.csv',encoding='cp949')\n",
        "# 19년도  \n",
        "df_201912 = pd.read_csv('/content/drive/MyDrive/멀티캠퍼스/2조/이경희/data/해양수산부_수산물 위판정보_2019.12.csv',encoding='cp949')\n",
        "df_201911 = pd.read_csv('/content/drive/MyDrive/멀티캠퍼스/2조/이경희/data/해양수산부_수산물 위판정보_2019.11.csv',encoding='cp949')\n",
        "df_201910 = pd.read_csv('/content/drive/MyDrive/멀티캠퍼스/2조/이경희/data/해양수산부_수산물 위판정보_2019.10.csv',encoding='cp949')\n",
        "df_201909 = pd.read_csv('/content/drive/MyDrive/멀티캠퍼스/2조/이경희/data/해양수산부_수산물 위판정보_2019.09.csv',encoding='cp949')\n",
        "df_201908 = pd.read_csv('/content/drive/MyDrive/멀티캠퍼스/2조/이경희/data/해양수산부_수산물 위판정보_2019.08.csv',encoding='cp949')\n",
        "df_201907 = pd.read_csv('/content/drive/MyDrive/멀티캠퍼스/2조/이경희/data/해양수산부_수산물 위판정보_2019.07.csv',encoding='cp949')\n",
        "df_201906 = pd.read_csv('/content/drive/MyDrive/멀티캠퍼스/2조/이경희/data/해양수산부_수산물 위판정보_2019.06.csv',encoding='cp949')\n",
        "df_201905 = pd.read_csv('/content/drive/MyDrive/멀티캠퍼스/2조/이경희/data/해양수산부_수산물 위판정보_2019.05.csv',encoding='cp949')\n",
        "df_201904 = pd.read_csv('/content/drive/MyDrive/멀티캠퍼스/2조/이경희/data/해양수산부_수산물 위판정보_2019.04.csv',encoding='cp949')\n",
        "df_201903 = pd.read_csv('/content/drive/MyDrive/멀티캠퍼스/2조/이경희/data/해양수산부_수산물 위판정보_2019.03.csv',encoding='cp949')\n",
        "df_201902 = pd.read_csv('/content/drive/MyDrive/멀티캠퍼스/2조/이경희/data/해양수산부_수산물 위판정보_2019.02.csv',encoding='cp949')\n",
        "df_201901 = pd.read_csv('/content/drive/MyDrive/멀티캠퍼스/2조/이경희/data/해양수산부_수산물 위판정보_2019.01.csv',encoding='cp949')"
      ],
      "metadata": {
        "colab": {
          "base_uri": "https://localhost:8080/"
        },
        "id": "87t7MggRxM4P",
        "outputId": "b3cdddfc-17d9-49d4-fdf7-589f24d3fd0a"
      },
      "execution_count": 4,
      "outputs": [
        {
          "output_type": "stream",
          "name": "stderr",
          "text": [
            "/usr/local/lib/python3.7/dist-packages/IPython/core/interactiveshell.py:2882: DtypeWarning: Columns (7) have mixed types.Specify dtype option on import or set low_memory=False.\n",
            "  exec(code_obj, self.user_global_ns, self.user_ns)\n",
            "/usr/local/lib/python3.7/dist-packages/IPython/core/interactiveshell.py:2882: DtypeWarning: Columns (5,11,12) have mixed types.Specify dtype option on import or set low_memory=False.\n",
            "  exec(code_obj, self.user_global_ns, self.user_ns)\n"
          ]
        }
      ]
    },
    {
      "cell_type": "code",
      "source": [
        "# 최저가, 최고가에 null값이 있는 행들이 있어서 \n",
        "# 일단 null인 행들은 빼겠습니다   →  제 뇌피셜로 한거라 이견 있으시면 말씀해주세요\n",
        "def null_rm(df):\n",
        "  df.dropna(axis=0,inplace = True)\n",
        "  df.reset_index(drop=True, inplace=True)"
      ],
      "metadata": {
        "id": "eBBfMaf7ilm7"
      },
      "execution_count": 5,
      "outputs": []
    },
    {
      "cell_type": "code",
      "source": [
        "# 22년도\n",
        "null_rm(df_202201)\n",
        "# 21년도\n",
        "null_rm(df_202112); null_rm(df_202111); null_rm(df_202110); null_rm(df_202109); null_rm(df_202108); null_rm(df_202107)\n",
        "null_rm(df_202106); null_rm(df_202105); null_rm(df_202104); null_rm(df_202103); null_rm(df_202102); null_rm(df_202101)\n",
        "# 20년도\n",
        "null_rm(df_202012); null_rm(df_202011); null_rm(df_202010); null_rm(df_202009); null_rm(df_202008); null_rm(df_202007)\n",
        "null_rm(df_202006); null_rm(df_202005); null_rm(df_202004); null_rm(df_202003); null_rm(df_202002); null_rm(df_202001)\n",
        "# 19년도\n",
        "null_rm(df_201912); null_rm(df_201911); null_rm(df_201910); null_rm(df_201909); null_rm(df_201908); null_rm(df_201907) \n",
        "null_rm(df_201906); null_rm(df_201905); null_rm(df_201904); null_rm(df_201903); null_rm(df_201902); null_rm(df_201901)"
      ],
      "metadata": {
        "id": "jk4iq07titHy"
      },
      "execution_count": 6,
      "outputs": []
    },
    {
      "cell_type": "code",
      "source": [
        "# 확인\n",
        "df_201901.isna().sum().sum()"
      ],
      "metadata": {
        "colab": {
          "base_uri": "https://localhost:8080/"
        },
        "id": "8QtCJr9Sim4h",
        "outputId": "74f5819e-27cd-4918-94fc-c10bdc79e523"
      },
      "execution_count": 7,
      "outputs": [
        {
          "output_type": "execute_result",
          "data": {
            "text/plain": [
              "0"
            ]
          },
          "metadata": {},
          "execution_count": 7
        }
      ]
    },
    {
      "cell_type": "markdown",
      "source": [
        "# To Do List\n",
        "**전처리**  \n",
        "``` \n",
        "1. 어종 선정\n",
        "```\n",
        "```\n",
        "2. 산지조합명과 수산물표준코드명이 같은 행인 경우\n",
        "  - 물량 → 평균내기\n",
        "  - 평균가 → 총판매액 합 / 물량(킬로그램)  \n",
        "```\n",
        "```\n",
        "3. 우편번호 컬럼 생성 \n",
        "\"옹진수산업협동조합\" == 15640\n",
        "\"영흥수산업협동조합\" == 23118\n",
        "\"인천수산업협동조합\" == 21642\n",
        "\"경기남부수산업협동조합\" == 18556\n",
        "\"동해시수산업협동조합\" == 25009\n",
        "\"양양수산업협동조합\" == 25047\n",
        "\"대포수산업협동조합\" == 24901\n",
        "\"원덕수산업협동조합\" == 25956\n",
        "\"서산수산업협동조합\" == 32121\n",
        "\"서천군수산업협동조합\" == 33668\n",
        "\"서천서부수산업협동조합\" == 33603\n",
        "\"안면도수산업협동조합\" == 32163\n",
        "\"군산시수산업협동조합\" == 54026\n",
        "\"강진군수산업협동조합\" == 59269\n",
        "\"신안군수산업협동조합\" == 58827\n",
        "\"진도군수산업협동조합\" == 58923\n",
        "\"고흥군수산업협동조합\" == 59538\n",
        "\"완도금일수산업협동조합\" == 59140\n",
        "\"경주시수산업협동조합\" == 38125\n",
        "\"강구수산업협동조합\" == 05257\n",
        "\"죽변수산업협동조합\" == 36315\n",
        "\"영덕북부수산업협동조합\" == 36430\n",
        "\"포항수산업협동조합\" == 37933\n",
        "\"후포수산업협동조합\" == 36369\n",
        "\"거제수산업협동조합\" == 53286\n",
        "\"진해수산업협동조합\" == 51683\n",
        "\"추자도수산업협동조합\" == 63000\n",
        "\"제주어류양식수산업협동조합\" == 63032\n",
        "```"
      ],
      "metadata": {
        "id": "DP5r0FFUHxFo"
      }
    },
    {
      "cell_type": "markdown",
      "source": [
        "## 컬럼명 변경 및 제거\n",
        "\n",
        "### 아예 사용하지 않을 컬럼 제거 \n",
        "남겨두고자하는 columns (11개)\n",
        "- '위판일자', '산지조합명', '위판장명', '수산물표준코드명', '어종상태명', '물량(킬로그램)', '평균가', '총 판매액\n",
        "\n",
        "버릴 columns\n",
        "- '산지조합코드', '위판장코드', '수산물표준코드', '어종상태코드',  '상품규격명', '상품단위명', '데이터기준일자', '최고가', '최저가', '수량','위판장명'\n",
        "\n"
      ],
      "metadata": {
        "id": "uN9D_faA5ya7"
      }
    },
    {
      "cell_type": "code",
      "source": [
        "# 컬럼명의 '\\t'를 제거하고 필요없는 컬럼 제거하기 \n",
        "def col_str_rm(df):\n",
        "  for col in range(len(df.columns)):  \n",
        "    old_col = df.columns[col]\n",
        "    new_col = df.columns[col].replace(\"\\t\",\"\").replace(\" \",\"\")\n",
        "    df.rename(columns = {old_col : new_col}, inplace=True)\n",
        "\n",
        "def col_rm(df): \n",
        "  df.drop( ['산지조합코드', '위판장코드', '위판장명','수산물표준코드', '어종상태코드',  '상품규격명', '상품단위명', '데이터기준일자', '최고가', '최저가', '수량'], axis=1, inplace = True )    "
      ],
      "metadata": {
        "id": "6F3_tpbL4E7w"
      },
      "execution_count": 8,
      "outputs": []
    },
    {
      "cell_type": "code",
      "source": [
        "# 22년도\n",
        "col_str_rm(df_202201); col_rm(df_202201)\n",
        "# 21년도\n",
        "col_str_rm(df_202112); col_rm(df_202112)\n",
        "col_str_rm(df_202111); col_rm(df_202111)\n",
        "col_str_rm(df_202110); col_rm(df_202110)\n",
        "col_str_rm(df_202109); col_rm(df_202109)\n",
        "col_str_rm(df_202108); col_rm(df_202108)\n",
        "col_str_rm(df_202107); col_rm(df_202107)\n",
        "col_str_rm(df_202106); col_rm(df_202106)\n",
        "col_str_rm(df_202105); col_rm(df_202105)\n",
        "col_str_rm(df_202104); col_rm(df_202104)\n",
        "col_str_rm(df_202103); col_rm(df_202103)\n",
        "col_str_rm(df_202102); col_rm(df_202102)\n",
        "col_str_rm(df_202101); col_rm(df_202101)\n",
        "# 20년도\n",
        "col_str_rm(df_202012); col_rm(df_202012)\n",
        "col_str_rm(df_202011); col_rm(df_202011)\n",
        "col_str_rm(df_202010); col_rm(df_202010)\n",
        "col_str_rm(df_202009); col_rm(df_202009)\n",
        "col_str_rm(df_202008); col_rm(df_202008)\n",
        "col_str_rm(df_202007); col_rm(df_202007)\n",
        "col_str_rm(df_202006); col_rm(df_202006)\n",
        "col_str_rm(df_202005); col_rm(df_202005)\n",
        "col_str_rm(df_202004); col_rm(df_202004)\n",
        "col_str_rm(df_202003); col_rm(df_202003)\n",
        "col_str_rm(df_202002); col_rm(df_202002)\n",
        "col_str_rm(df_202001); col_rm(df_202001)\n",
        "# 19년도\n",
        "col_str_rm(df_201912); col_rm(df_201912)\n",
        "col_str_rm(df_201911); col_rm(df_201911)\n",
        "col_str_rm(df_201910); col_rm(df_201910)\n",
        "col_str_rm(df_201909); col_rm(df_201909)\n",
        "col_str_rm(df_201908); col_rm(df_201908)\n",
        "col_str_rm(df_201907); col_rm(df_201907)\n",
        "col_str_rm(df_201906); col_rm(df_201906)\n",
        "col_str_rm(df_201905); col_rm(df_201905)\n",
        "col_str_rm(df_201904); col_rm(df_201904)\n",
        "col_str_rm(df_201903); col_rm(df_201903)\n",
        "col_str_rm(df_201902); col_rm(df_201902)\n",
        "col_str_rm(df_201901); col_rm(df_201901)"
      ],
      "metadata": {
        "id": "UWdLPRLi4r-m"
      },
      "execution_count": 9,
      "outputs": []
    },
    {
      "cell_type": "code",
      "source": [
        "df_202112.columns"
      ],
      "metadata": {
        "colab": {
          "base_uri": "https://localhost:8080/"
        },
        "id": "SwJg2XXE1fJV",
        "outputId": "3dfefeb9-3f1f-421c-d7ec-5f9e9127e504"
      },
      "execution_count": 10,
      "outputs": [
        {
          "output_type": "execute_result",
          "data": {
            "text/plain": [
              "Index(['위판일자', '산지조합명', '수산물표준코드명', '어종상태명', '물량(킬로그램)', '평균가', '총판매액'], dtype='object')"
            ]
          },
          "metadata": {},
          "execution_count": 10
        }
      ]
    },
    {
      "cell_type": "markdown",
      "source": [
        "## (1) 사용 어종 선정\n",
        "### * 사용 어종 list   \n",
        "- ['붕장어', '민어', '넙치', '조피볼락', '낙지', '문어, '전복', '갑오징어', '고등어', '숭어', '전어', '감성돔', '돌돔', '방어', '참돔', '참다랑어', '쏨뱅이', '송어', '밀복', '참복']"
      ],
      "metadata": {
        "id": "nuRtfiSM53nQ"
      }
    },
    {
      "cell_type": "code",
      "source": [
        "fish = ['붕장어', '민어', '넙치', '조피볼락', '낙지', '문어', '전복', '갑오징어', '고등어', '숭어', '전어', '감성돔', '돌돔', '방어', '참돔', '참다랑어', '쏨뱅이', '송어', '밀복', '참복']\n",
        "\n",
        "def fish_choice(df):\n",
        "  for row in range(len(df)):\n",
        "    if (df.loc[row,'수산물표준코드명'] not in fish) or (df.loc[row,'어종상태명'] != '(활)') :\n",
        "        df.drop([row], axis = 0, inplace = True)"
      ],
      "metadata": {
        "id": "DGUwDI_EmCP8"
      },
      "execution_count": 11,
      "outputs": []
    },
    {
      "cell_type": "code",
      "source": [
        "# 22년도\n",
        "fish_choice(df_202201)\n",
        "# 21년도\n",
        "fish_choice(df_202112); fish_choice(df_202111); fish_choice(df_202110); fish_choice(df_202109); fish_choice(df_202108); fish_choice(df_202107)\n",
        "fish_choice(df_202106); fish_choice(df_202105); fish_choice(df_202104); fish_choice(df_202103); fish_choice(df_202102); fish_choice(df_202101)\n",
        "# 20년도\n",
        "fish_choice(df_202012); fish_choice(df_202011); fish_choice(df_202010); fish_choice(df_202009); fish_choice(df_202008); fish_choice(df_202007)\n",
        "fish_choice(df_202006); fish_choice(df_202005); fish_choice(df_202004); fish_choice(df_202003); fish_choice(df_202002); fish_choice(df_202001)\n",
        "# 19년도\n",
        "fish_choice(df_201912); fish_choice(df_201911); fish_choice(df_201910); fish_choice(df_201909); fish_choice(df_201908); fish_choice(df_201907) \n",
        "fish_choice(df_201906); fish_choice(df_201905); fish_choice(df_201904); fish_choice(df_201903); fish_choice(df_201902); fish_choice(df_201901)"
      ],
      "metadata": {
        "id": "F3hyt2B8tEmB"
      },
      "execution_count": 13,
      "outputs": []
    },
    {
      "cell_type": "code",
      "source": [
        "## 중간저장  (완)\n",
        "# 22년\n",
        "pd.DataFrame(df_202201).to_csv('/content/drive/MyDrive/멀티캠퍼스/2조/이경희/완/2022_01.csv', index=False)\n",
        "# # 21년\n",
        "pd.DataFrame(df_202112).to_csv('/content/drive/MyDrive/멀티캠퍼스/2조/이경희/완/2021_12.csv', index=False)\n",
        "pd.DataFrame(df_202111).to_csv('/content/drive/MyDrive/멀티캠퍼스/2조/이경희/완/2021_11.csv', index=False)\n",
        "pd.DataFrame(df_202110).to_csv('/content/drive/MyDrive/멀티캠퍼스/2조/이경희/완/2021_10.csv', index=False)\n",
        "pd.DataFrame(df_202109).to_csv('/content/drive/MyDrive/멀티캠퍼스/2조/이경희/완/2021_09.csv', index=False)\n",
        "pd.DataFrame(df_202108).to_csv('/content/drive/MyDrive/멀티캠퍼스/2조/이경희/완/2021_08.csv', index=False)\n",
        "pd.DataFrame(df_202107).to_csv('/content/drive/MyDrive/멀티캠퍼스/2조/이경희/완/2021_07.csv', index=False)\n",
        "pd.DataFrame(df_202106).to_csv('/content/drive/MyDrive/멀티캠퍼스/2조/이경희/완/2021_06.csv', index=False)\n",
        "pd.DataFrame(df_202105).to_csv('/content/drive/MyDrive/멀티캠퍼스/2조/이경희/완/2021_05.csv', index=False)\n",
        "pd.DataFrame(df_202104).to_csv('/content/drive/MyDrive/멀티캠퍼스/2조/이경희/완/2021_04.csv', index=False)\n",
        "pd.DataFrame(df_202103).to_csv('/content/drive/MyDrive/멀티캠퍼스/2조/이경희/완/2021_03.csv', index=False)\n",
        "pd.DataFrame(df_202102).to_csv('/content/drive/MyDrive/멀티캠퍼스/2조/이경희/완/2021_02.csv', index=False)\n",
        "pd.DataFrame(df_202101).to_csv('/content/drive/MyDrive/멀티캠퍼스/2조/이경희/완/2021_01.csv', index=False)\n",
        "# 20년\n",
        "pd.DataFrame(df_202012).to_csv('/content/drive/MyDrive/멀티캠퍼스/2조/이경희/완/2020_12.csv', index=False)\n",
        "pd.DataFrame(df_202011).to_csv('/content/drive/MyDrive/멀티캠퍼스/2조/이경희/완/2020_11.csv', index=False)\n",
        "pd.DataFrame(df_202010).to_csv('/content/drive/MyDrive/멀티캠퍼스/2조/이경희/완/2020_10.csv', index=False)\n",
        "pd.DataFrame(df_202009).to_csv('/content/drive/MyDrive/멀티캠퍼스/2조/이경희/완/2020_09.csv', index=False)\n",
        "pd.DataFrame(df_202008).to_csv('/content/drive/MyDrive/멀티캠퍼스/2조/이경희/완/2020_08.csv', index=False)\n",
        "pd.DataFrame(df_202007).to_csv('/content/drive/MyDrive/멀티캠퍼스/2조/이경희/완/2020_07.csv', index=False)\n",
        "pd.DataFrame(df_202006).to_csv('/content/drive/MyDrive/멀티캠퍼스/2조/이경희/완/2020_06.csv', index=False)\n",
        "pd.DataFrame(df_202005).to_csv('/content/drive/MyDrive/멀티캠퍼스/2조/이경희/완/2020_05.csv', index=False)\n",
        "pd.DataFrame(df_202004).to_csv('/content/drive/MyDrive/멀티캠퍼스/2조/이경희/완/2020_04.csv', index=False)\n",
        "pd.DataFrame(df_202003).to_csv('/content/drive/MyDrive/멀티캠퍼스/2조/이경희/완/2020_03.csv', index=False)\n",
        "pd.DataFrame(df_202002).to_csv('/content/drive/MyDrive/멀티캠퍼스/2조/이경희/완/2020_02.csv', index=False)\n",
        "pd.DataFrame(df_202001).to_csv('/content/drive/MyDrive/멀티캠퍼스/2조/이경희/완/2020_01.csv', index=False)\n",
        "# 19년\n",
        "pd.DataFrame(df_201912).to_csv('/content/drive/MyDrive/멀티캠퍼스/2조/이경희/완/2019_12.csv', index=False)\n",
        "pd.DataFrame(df_201911).to_csv('/content/drive/MyDrive/멀티캠퍼스/2조/이경희/완/2019_11.csv', index=False)\n",
        "pd.DataFrame(df_201910).to_csv('/content/drive/MyDrive/멀티캠퍼스/2조/이경희/완/2019_10.csv', index=False)\n",
        "pd.DataFrame(df_201909).to_csv('/content/drive/MyDrive/멀티캠퍼스/2조/이경희/완/2019_09.csv', index=False)\n",
        "pd.DataFrame(df_201908).to_csv('/content/drive/MyDrive/멀티캠퍼스/2조/이경희/완/2019_08.csv', index=False)\n",
        "pd.DataFrame(df_201907).to_csv('/content/drive/MyDrive/멀티캠퍼스/2조/이경희/완/2019_07.csv', index=False)\n",
        "pd.DataFrame(df_201906).to_csv('/content/drive/MyDrive/멀티캠퍼스/2조/이경희/완/2019_06.csv', index=False)\n",
        "pd.DataFrame(df_201905).to_csv('/content/drive/MyDrive/멀티캠퍼스/2조/이경희/완/2019_05.csv', index=False)\n",
        "pd.DataFrame(df_201904).to_csv('/content/drive/MyDrive/멀티캠퍼스/2조/이경희/완/2019_04.csv', index=False)\n",
        "pd.DataFrame(df_201903).to_csv('/content/drive/MyDrive/멀티캠퍼스/2조/이경희/완/2019_03.csv', index=False)\n",
        "pd.DataFrame(df_201902).to_csv('/content/drive/MyDrive/멀티캠퍼스/2조/이경희/완/2019_02.csv', index=False)\n",
        "pd.DataFrame(df_201901).to_csv('/content/drive/MyDrive/멀티캠퍼스/2조/이경희/완/2019_01.csv', index=False)"
      ],
      "metadata": {
        "id": "8ZZ9TcDF8bQM"
      },
      "execution_count": 17,
      "outputs": []
    },
    {
      "cell_type": "markdown",
      "source": [
        "### (2) 산지조합명과 수산물표준코드명이 같은 행인 경우\n",
        "  - 물량 → 평균내기\n",
        "  - 평균가 → 총판매액 합 / 물량(킬로그램) "
      ],
      "metadata": {
        "id": "JJQ2c8gdl4cT"
      }
    },
    {
      "cell_type": "code",
      "source": [
        "df_202201['산지조합명'].unique()\n",
        "\n",
        "suhyup_name = ['옹진수산업협동조합', '영흥수산업협동조합', '인천수산업협동조합', '경기남부수산업협동조합', '동해시수산업협동조합',\n",
        "       '양양수산업협동조합', '대포수산업협동조합', '원덕수산업협동조합', '서산수산업협동조합', '서천군수산업협동조합',\n",
        "       '서천서부수산업협동조합', '안면도수산업협동조합', '군산시수산업협동조합', '강진군수산업협동조합',\n",
        "       '신안군수산업협동조합', '진도군수산업협동조합', '고흥군수산업협동조합', '완도금일수산업협동조합',\n",
        "       '경주시수산업협동조합', '강구수산업협동조합', '죽변수산업협동조합', '영덕북부수산업협동조합', '포항수산업협동조합',\n",
        "       '후포수산업협동조합', '거제수산업협동조합', '진해수산업협동조합', '추자도수산업협동조합',\n",
        "       '제주어류양식수산업협동조합', '강원고성군수산업협동조합', '삼척수산업협동조합', '강릉시수산업협동조합',\n",
        "       '죽왕수산업협동조합', '보령수산업협동조합', '대천서부수산업협동조합', '목포수산업협동조합', '장흥군수산업협동조합',\n",
        "       '구룡포수산업협동조합', '의창수산업협동조합', '남해군수산업협동조합', '모슬포수산업협동조합',\n",
        "       '속초시수산업협동조합', '태안남부수산업협동조합', '해남군수산업협동조합', '거문도수산업협동조합',\n",
        "       '여수 수산업협동조합', '경남고성군수산업협동조합', '마산수산업협동조합', '삼천포수산업협동조합',\n",
        "       '통영수산업협동조합', '하동군수산업협동조합', '욕지수산업협동조합', '성산포수산업협동조합', '부산시수산업협동조합',\n",
        "       '서남해수어류양식수산업협동조합', '근해통발수산업협동조합', '제1/2구잠수기수산업협동조합',\n",
        "       '전남서부어류양식수산업협동조합', '울산수산업협동조합', '사천수산업협동조합', '나로도수산업협동조합']"
      ],
      "metadata": {
        "colab": {
          "base_uri": "https://localhost:8080/"
        },
        "id": "7r-ad2bonk82",
        "outputId": "12ecd2ec-b678-40cb-cbf1-ac6eb79352df"
      },
      "execution_count": 127,
      "outputs": [
        {
          "output_type": "execute_result",
          "data": {
            "text/plain": [
              "array(['옹진수산업협동조합', '영흥수산업협동조합', '인천수산업협동조합', '경기남부수산업협동조합', '동해시수산업협동조합',\n",
              "       '양양수산업협동조합', '대포수산업협동조합', '원덕수산업협동조합', '서산수산업협동조합', '서천군수산업협동조합',\n",
              "       '서천서부수산업협동조합', '안면도수산업협동조합', '군산시수산업협동조합', '강진군수산업협동조합',\n",
              "       '신안군수산업협동조합', '진도군수산업협동조합', '고흥군수산업협동조합', '완도금일수산업협동조합',\n",
              "       '경주시수산업협동조합', '강구수산업협동조합', '죽변수산업협동조합', '영덕북부수산업협동조합', '포항수산업협동조합',\n",
              "       '후포수산업협동조합', '거제수산업협동조합', '진해수산업협동조합', '추자도수산업협동조합',\n",
              "       '제주어류양식수산업협동조합', '강원고성군수산업협동조합', '삼척수산업협동조합', '강릉시수산업협동조합',\n",
              "       '죽왕수산업협동조합', '보령수산업협동조합', '대천서부수산업협동조합', '목포수산업협동조합', '장흥군수산업협동조합',\n",
              "       '구룡포수산업협동조합', '의창수산업협동조합', '남해군수산업협동조합', '모슬포수산업협동조합',\n",
              "       '속초시수산업협동조합', '태안남부수산업협동조합', '해남군수산업협동조합', '거문도수산업협동조합',\n",
              "       '여수 수산업협동조합', '경남고성군수산업협동조합', '마산수산업협동조합', '삼천포수산업협동조합',\n",
              "       '통영수산업협동조합', '하동군수산업협동조합', '욕지수산업협동조합', '성산포수산업협동조합', '부산시수산업협동조합',\n",
              "       '서남해수어류양식수산업협동조합', '근해통발수산업협동조합', '제1/2구잠수기수산업협동조합',\n",
              "       '전남서부어류양식수산업협동조합', '울산수산업협동조합', '사천수산업협동조합', '나로도수산업협동조합'],\n",
              "      dtype=object)"
            ]
          },
          "metadata": {},
          "execution_count": 127
        }
      ]
    },
    {
      "cell_type": "markdown",
      "source": [
        "### (3) 우편번호 컬럼 생성"
      ],
      "metadata": {
        "id": "EGkIUpZf6OJT"
      }
    },
    {
      "cell_type": "code",
      "source": [
        "# 22년도\n",
        "df_202201 = pd.read_csv('/content/drive/MyDrive/멀티캠퍼스/2조/이경희/완/2022_01.csv')    \n",
        "# 21년도\n",
        "df_202112 = pd.read_csv('/content/drive/MyDrive/멀티캠퍼스/2조/이경희/완/2021_12.csv')   \n",
        "df_202111 = pd.read_csv('/content/drive/MyDrive/멀티캠퍼스/2조/이경희/완/2021_11.csv')   \n",
        "df_202110 = pd.read_csv('/content/drive/MyDrive/멀티캠퍼스/2조/이경희/완/2021_10.csv')   \n",
        "df_202109 = pd.read_csv('/content/drive/MyDrive/멀티캠퍼스/2조/이경희/완/2021_09.csv')   \n",
        "df_202108 = pd.read_csv('/content/drive/MyDrive/멀티캠퍼스/2조/이경희/완/2021_08.csv')   \n",
        "df_202107 = pd.read_csv('/content/drive/MyDrive/멀티캠퍼스/2조/이경희/완/2021_07.csv')   \n",
        "df_202106 = pd.read_csv('/content/drive/MyDrive/멀티캠퍼스/2조/이경희/완/2021_06.csv')   \n",
        "df_202105 = pd.read_csv('/content/drive/MyDrive/멀티캠퍼스/2조/이경희/완/2021_05.csv')   \n",
        "df_202104 = pd.read_csv('/content/drive/MyDrive/멀티캠퍼스/2조/이경희/완/2021_04.csv')   \n",
        "df_202103 = pd.read_csv('/content/drive/MyDrive/멀티캠퍼스/2조/이경희/완/2021_03.csv')   \n",
        "df_202102 = pd.read_csv('/content/drive/MyDrive/멀티캠퍼스/2조/이경희/완/2021_02.csv')   \n",
        "df_202101 = pd.read_csv('/content/drive/MyDrive/멀티캠퍼스/2조/이경희/완/2021_01.csv')   \n",
        "# 20년도\n",
        "df_202012 = pd.read_csv('/content/drive/MyDrive/멀티캠퍼스/2조/이경희/완/2020_12.csv')   \n",
        "df_202011 = pd.read_csv('/content/drive/MyDrive/멀티캠퍼스/2조/이경희/완/2020_11.csv')   \n",
        "df_202010 = pd.read_csv('/content/drive/MyDrive/멀티캠퍼스/2조/이경희/완/2020_10.csv')   \n",
        "df_202009 = pd.read_csv('/content/drive/MyDrive/멀티캠퍼스/2조/이경희/완/2020_09.csv')   \n",
        "df_202008 = pd.read_csv('/content/drive/MyDrive/멀티캠퍼스/2조/이경희/완/2020_08.csv')   \n",
        "df_202007 = pd.read_csv('/content/drive/MyDrive/멀티캠퍼스/2조/이경희/완/2020_07.csv')   \n",
        "df_202006 = pd.read_csv('/content/drive/MyDrive/멀티캠퍼스/2조/이경희/완/2020_06.csv')   \n",
        "df_202005 = pd.read_csv('/content/drive/MyDrive/멀티캠퍼스/2조/이경희/완/2020_05.csv')   \n",
        "df_202004 = pd.read_csv('/content/drive/MyDrive/멀티캠퍼스/2조/이경희/완/2020_04.csv')   \n",
        "df_202003 = pd.read_csv('/content/drive/MyDrive/멀티캠퍼스/2조/이경희/완/2020_03.csv')   \n",
        "df_202002 = pd.read_csv('/content/drive/MyDrive/멀티캠퍼스/2조/이경희/완/2020_02.csv')   \n",
        "df_202001 = pd.read_csv('/content/drive/MyDrive/멀티캠퍼스/2조/이경희/완/2020_01.csv') \n",
        "# 19년도\n",
        "df_201912 = pd.read_csv('/content/drive/MyDrive/멀티캠퍼스/2조/이경희/완/2019_12.csv')   \n",
        "df_201911 = pd.read_csv('/content/drive/MyDrive/멀티캠퍼스/2조/이경희/완/2019_11.csv')   \n",
        "df_201910 = pd.read_csv('/content/drive/MyDrive/멀티캠퍼스/2조/이경희/완/2019_10.csv')   \n",
        "df_201909 = pd.read_csv('/content/drive/MyDrive/멀티캠퍼스/2조/이경희/완/2019_09.csv')   \n",
        "df_201908 = pd.read_csv('/content/drive/MyDrive/멀티캠퍼스/2조/이경희/완/2019_08.csv')   \n",
        "df_201907 = pd.read_csv('/content/drive/MyDrive/멀티캠퍼스/2조/이경희/완/2019_07.csv')   \n",
        "df_201906 = pd.read_csv('/content/drive/MyDrive/멀티캠퍼스/2조/이경희/완/2019_06.csv')   \n",
        "df_201905 = pd.read_csv('/content/drive/MyDrive/멀티캠퍼스/2조/이경희/완/2019_05.csv')   \n",
        "df_201904 = pd.read_csv('/content/drive/MyDrive/멀티캠퍼스/2조/이경희/완/2019_04.csv')   \n",
        "df_201903 = pd.read_csv('/content/drive/MyDrive/멀티캠퍼스/2조/이경희/완/2019_03.csv')   \n",
        "df_201902 = pd.read_csv('/content/drive/MyDrive/멀티캠퍼스/2조/이경희/완/2019_02.csv')   \n",
        "df_201901 = pd.read_csv('/content/drive/MyDrive/멀티캠퍼스/2조/이경희/완/2019_01.csv') "
      ],
      "metadata": {
        "id": "uUryEcXtAMqG"
      },
      "execution_count": 15,
      "outputs": []
    },
    {
      "cell_type": "code",
      "source": [
        "def zip_code(df):\n",
        "  df.reset_index(drop=True, inplace=True)\n",
        "  df_202201['우편번호'] = df_202201['산지조합명']\n",
        "  for row in range(len(df)):\n",
        "    if df.loc[row, '우편번호'] == \"옹진수산업협동조합\" : df.loc[row, '우편번호'] = \"15640\"\n",
        "    elif df.loc[row, '우편번호'] == \"영흥수산업협동조합\" : df.loc[row, '우편번호'] = \"23118\"\n",
        "    elif df.loc[row, '우편번호'] == \"인천수산업협동조합\" : df.loc[row, '우편번호'] = \"21642\"\n",
        "    elif df.loc[row, '우편번호'] == \"경기남부수산업협동조합\" : df.loc[row, '우편번호'] = \"18556\"\n",
        "    elif df.loc[row, '우편번호'] == \"동해시수산업협동조합\" : df.loc[row, '우편번호'] = \"25009\"\n",
        "    elif df.loc[row, '우편번호'] == \"양양수산업협동조합\" : df.loc[row, '우편번호'] = \"25047\"\n",
        "    elif df.loc[row, '우편번호'] == \"대포수산업협동조합\" : df.loc[row, '우편번호'] = \"24901\"\n",
        "    elif df.loc[row, '우편번호'] == \"원덕수산업협동조합\" : df.loc[row, '우편번호'] = \"25956\"\n",
        "    elif df.loc[row, '우편번호'] == \"서산수산업협동조합\" : df.loc[row, '우편번호'] = \"32121\"\n",
        "    elif df.loc[row, '우편번호'] == \"서천군수산업협동조합\" : df.loc[row, '우편번호'] = \"33668\"\n",
        "    elif df.loc[row, '우편번호'] == \"서천서부수산업협동조합\" : df.loc[row, '우편번호'] = \"33603\"\n",
        "    elif df.loc[row, '우편번호'] == \"안면도수산업협동조합\" : df.loc[row, '우편번호'] = \"32163\"\n",
        "    elif df.loc[row, '우편번호'] == \"군산시수산업협동조합\" : df.loc[row, '우편번호'] = \"54026\"\n",
        "    elif df.loc[row, '우편번호'] == \"강진군수산업협동조합\" : df.loc[row, '우편번호'] = \"59269\"\n",
        "    elif df.loc[row, '우편번호'] == \"신안군수산업협동조합\" : df.loc[row, '우편번호'] = \"58827\"\n",
        "    elif df.loc[row, '우편번호'] == \"진도군수산업협동조합\" : df.loc[row, '우편번호'] = \"58923\"\n",
        "    elif df.loc[row, '우편번호'] == \"고흥군수산업협동조합\" : df.loc[row, '우편번호'] = \"59538\"\n",
        "    elif df.loc[row, '우편번호'] == \"완도금일수산업협동조합\" : df.loc[row, '우편번호'] = \"59140\"\n",
        "    elif df.loc[row, '우편번호'] == \"경주시수산업협동조합\" : df.loc[row, '우편번호'] = \"38125\"\n",
        "    elif df.loc[row, '우편번호'] == \"강구수산업협동조합\" : df.loc[row, '우편번호'] = \"05257\"\n",
        "    elif df.loc[row, '우편번호'] == \"죽변수산업협동조합\" : df.loc[row, '우편번호'] = \"36315\"\n",
        "    elif df.loc[row, '우편번호'] == \"영덕북부수산업협동조합\" : df.loc[row, '우편번호'] = \"36430\"\n",
        "    elif df.loc[row, '우편번호'] == \"포항수산업협동조합\" : df.loc[row, '우편번호'] = \"37933\"\n",
        "    elif df.loc[row, '우편번호'] == \"후포수산업협동조합\" : df.loc[row, '우편번호'] = \"36369\"\n",
        "    elif df.loc[row, '우편번호'] == \"거제수산업협동조합\" : df.loc[row, '우편번호'] = \"53286\"\n",
        "    elif df.loc[row, '우편번호'] == \"진해수산업협동조합\" : df.loc[row, '우편번호'] = \"51683\"\n",
        "    elif df.loc[row, '우편번호'] == \"추자도수산업협동조합\" : df.loc[row, '우편번호'] = \"63000\"\n",
        "    elif df.loc[row, '우편번호'] == \"제주어류양식수산업협동조합\" : df.loc[row, '우편번호'] = \"63032\"\n",
        "    # 추가\n",
        "    elif df.loc[row, '우편번호'] == \"하동군수산업협동조합\" : df.loc[row, '우편번호'] = \"52352\"   \n",
        "    elif df.loc[row, '우편번호'] == \"남해군수산업협동조합\" : df.loc[row, '우편번호'] = \"52442\"\n",
        "    elif df.loc[row, '우편번호'] == \"강원고성군수산업협동조합\" : df.loc[row, '우편번호'] = \"24743\"\n",
        "    elif df.loc[row, '우편번호'] == \"삼척수산업협동조합\" : df.loc[row, '우편번호'] = \"25925\"\n",
        "    elif df.loc[row, '우편번호'] == \"강릉시수산업협동조합\" : df.loc[row, '우편번호'] = \"63276\"\n",
        "    elif df.loc[row, '우편번호'] == \"죽왕수산업협동조합\" : df.loc[row, '우편번호'] = \"24745\"\n",
        "    elif df.loc[row, '우편번호'] == \"보령수산업협동조합\" : df.loc[row, '우편번호'] = \"33465\"\n",
        "    elif df.loc[row, '우편번호'] == \"대천서부수산업협동조합\" : df.loc[row, '우편번호'] = \"33488\"\n",
        "    elif df.loc[row, '우편번호'] == \"목포수산업협동조합\" : df.loc[row, '우편번호'] = \"58759\"\n",
        "    elif df.loc[row, '우편번호'] == \"나로도수산업협동조합\" : df.loc[row, '우편번호'] = \"59569\"\n",
        "    elif df.loc[row, '우편번호'] == \"장흥군수산업협동조합\" : df.loc[row, '우편번호'] = \"59315\"\n",
        "    elif df.loc[row, '우편번호'] == \"구룡포수산업협동조합\" : df.loc[row, '우편번호'] = \"37933\"\n",
        "    elif df.loc[row, '우편번호'] == \"의창수산업협동조합\" : df.loc[row, '우편번호'] = \"51610\"\n",
        "    elif df.loc[row, '우편번호'] == \"모슬포수산업협동조합\" : df.loc[row, '우편번호'] = \"63508\"\n",
        "    elif df.loc[row, '우편번호'] == \"속초시수산업협동조합\" : df.loc[row, '우편번호'] = \"24883\"\n",
        "    elif df.loc[row, '우편번호'] == \"서남해수어류양식수산업협동조합\" : df.loc[row, '우편번호'] = \"59764\"\n",
        "    elif df.loc[row, '우편번호'] == \"욕지수산업협동조합\" : df.loc[row, '우편번호'] = \"53100\"\n",
        "    elif df.loc[row, '우편번호'] == \"성산포수산업협동조합\" : df.loc[row, '우편번호'] = \"63643\"\n",
        "    elif df.loc[row, '우편번호'] == \"부산시수산업협동조합\" : df.loc[row, '우편번호'] = \"48281\"\n",
        "    elif df.loc[row, '우편번호'] == \"경남고성군수산업협동조합\" : df.loc[row, '우편번호'] = \"52934\"\n",
        "    elif df.loc[row, '우편번호'] == \"태안남부수산업협동조합\" : df.loc[row, '우편번호'] = \"32158\"\n",
        "    elif df.loc[row, '우편번호'] == \"해남군수산업협동조합\" : df.loc[row, '우편번호'] = \"59048\"\n",
        "    elif df.loc[row, '우편번호'] == \"거문도수산업협동조합\" : df.loc[row, '우편번호'] = \"59790\"  \n",
        "    elif df.loc[row, '우편번호'] == \"여수 수산업협동조합\" : df.loc[row, '우편번호'] = \"59764\"\n",
        "    elif df.loc[row, '우편번호'] == \"마산수산업협동조합\" : df.loc[row, '우편번호'] = \"51713\"\n",
        "    elif df.loc[row, '우편번호'] == \"삼천포수산업협동조합\" : df.loc[row, '우편번호'] = \"\"\n",
        "    elif df.loc[row, '우편번호'] == \"통영수산업협동조합\" : df.loc[row, '우편번호'] = \"53050\"\n",
        "    elif df.loc[row, '우편번호'] == \"근해통발수산업협동조합\" : df.loc[row, '우편번호'] = \"53003\"\n",
        "    elif df.loc[row, '우편번호'] == \"제1/2구잠수기수산업협동조합\" : df.loc[row, '우편번호'] = \"51714\"  # \n",
        "    elif df.loc[row, '우편번호'] == \"전남서부어류양식수산업협동조합\" : df.loc[row, '우편번호'] = \"59108\"\n",
        "    elif df.loc[row, '우편번호'] == \"사천수산업협동조합\" : df.loc[row, '우편번호'] = \"00000\"    ##  이건 진짜 모르겠음 아시는분? ##\n",
        "    elif df.loc[row, '우편번호'] == \"울산수산업협동조합\" : df.loc[row, '우편번호'] = \"45001\""
      ],
      "metadata": {
        "id": "4lDY8_bL6V9F"
      },
      "execution_count": 16,
      "outputs": []
    },
    {
      "cell_type": "code",
      "source": [
        "# 22년도\n",
        "zip_code(df_202201)\n",
        "# 21년도\n",
        "# zip_code(df_202112); zip_code(df_202111); zip_code(df_202110); zip_code(df_202109); zip_code(df_202108); zip_code(df_202107)\n",
        "# zip_code(df_202106); zip_code(df_202105); zip_code(df_202104); zip_code(df_202103); zip_code(df_202102); zip_code(df_202101)\n",
        "# # 20년도\n",
        "# zip_code(df_202012); zip_code(df_202011); zip_code(df_202010); zip_code(df_202009); zip_code(df_202008); zip_code(df_202007)\n",
        "# zip_code(df_202006); zip_code(df_202005); zip_code(df_202004); zip_code(df_202003); zip_code(df_202002); zip_code(df_202001)\n",
        "# # 19년도\n",
        "# zip_code(df_201912); zip_code(df_201911); zip_code(df_201910); zip_code(df_201909); zip_code(df_201908); zip_code(df_201907) \n",
        "# zip_code(df_201906); zip_code(df_201905); zip_code(df_201904); zip_code(df_201903); zip_code(df_201902); zip_code(df_201901)"
      ],
      "metadata": {
        "id": "ALbU2pFzK6fo"
      },
      "execution_count": 123,
      "outputs": []
    },
    {
      "cell_type": "markdown",
      "source": [
        "# DF 병합  \n",
        "얼추 정제된 3년치 DF를 병합"
      ],
      "metadata": {
        "id": "PqF_EUFE5-8v"
      }
    },
    {
      "cell_type": "code",
      "source": [
        "# 21년 ~ 19년 df 병합\n",
        "df = pd.concat([df_202201, df_202112])\n",
        "\n",
        "df = pd.concat([df, df_202111]); df = pd.concat([df, df_202110]); df = pd.concat([df, df_202109]); df = pd.concat([df, df_202110]); df = pd.concat([df, df_202108]); df = pd.concat([df, df_202107])\n",
        "df = pd.concat([df, df_202106]); df = pd.concat([df, df_202105]); df = pd.concat([df, df_202104]); df = pd.concat([df, df_202103]); df = pd.concat([df, df_202102]); df = pd.concat([df, df_202101])\n",
        "\n",
        "df = pd. concat([df, df_202012]); df = pd.concat([df, df_202011]); df = pd.concat([df, df_202010]); df = pd.concat([df, df_202009]); df = pd.concat([df, df_202010]); df = pd.concat([df, df_202008]) \n",
        "df = pd.concat([df, df_202007]); df = pd.concat([df, df_202006]); df = pd.concat([df, df_202005]); df = pd.concat([df, df_202004]); df = pd.concat([df, df_202003]); df = pd.concat([df, df_202002]); df = pd.concat([df, df_202001])\n",
        "\n",
        "df = pd. concat([df, df_201912]); df = pd.concat([df, df_201911]); df = pd.concat([df, df_201910]); df = pd.concat([df, df_201909]); df = pd.concat([df, df_201910]); df = pd.concat([df, df_201908]) \n",
        "df = pd.concat([df, df_201907]); df = pd.concat([df, df_201906]); df = pd.concat([df, df_201905]); df = pd.concat([df, df_201904]); df = pd.concat([df, df_201903]); df = pd.concat([df, df_201902]); df = pd.concat([df, df_201901])\n"
      ],
      "metadata": {
        "id": "oXf2AM8btbLt"
      },
      "execution_count": 132,
      "outputs": []
    },
    {
      "cell_type": "code",
      "source": [
        "pd.DataFrame(df).to_csv('/content/drive/MyDrive/멀티캠퍼스/2조/이경희/merge_test.csv', index=False)"
      ],
      "metadata": {
        "id": "QHuWn1ru6z3O"
      },
      "execution_count": 174,
      "outputs": []
    }
  ]
}