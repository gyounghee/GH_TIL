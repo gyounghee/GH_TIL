{
  "cells": [
    {
      "cell_type": "code",
      "execution_count": 60,
      "metadata": {
        "id": "8NhXDaQlBLTT"
      },
      "outputs": [],
      "source": [
        "import pandas as pd"
      ]
    },
    {
      "cell_type": "markdown",
      "source": [
        "# 광어"
      ],
      "metadata": {
        "id": "9DCY7BytHcDO"
      }
    },
    {
      "cell_type": "code",
      "execution_count": 138,
      "metadata": {
        "id": "lDHE_E24Blfv"
      },
      "outputs": [],
      "source": [
        "# 해면어업 광어 생산량\n",
        "ff_production = pd.read_csv('/content/drive/MyDrive/멀티캠퍼스/2조/이경희/행정구역별 해면어업 넙치류 생산량.csv')"
      ]
    },
    {
      "cell_type": "code",
      "execution_count": 139,
      "metadata": {
        "id": "ats2kOmoB-u7",
        "outputId": "78381284-4dba-4917-a4e9-5212b326b951",
        "colab": {
          "base_uri": "https://localhost:8080/"
        }
      },
      "outputs": [
        {
          "output_type": "execute_result",
          "data": {
            "text/plain": [
              "0"
            ]
          },
          "metadata": {},
          "execution_count": 139
        }
      ],
      "source": [
        "ff_production.isna().sum().sum() # 결측치 확인"
      ]
    },
    {
      "cell_type": "code",
      "execution_count": 140,
      "metadata": {
        "colab": {
          "base_uri": "https://localhost:8080/"
        },
        "id": "if5TEkacGW2c",
        "outputId": "bb799c37-8618-465d-d4b5-d1f5c32edcc0"
      },
      "outputs": [
        {
          "output_type": "execute_result",
          "data": {
            "text/plain": [
              "array(['부산광역시', '인천광역시', '울산광역시', '경기도', '강원도', '충청남도', '전라북도', '전라남도',\n",
              "       '경상북도', '경상남도', '제주도'], dtype=object)"
            ]
          },
          "metadata": {},
          "execution_count": 140
        }
      ],
      "source": [
        "ff_production['행정구역별'].values"
      ]
    },
    {
      "cell_type": "code",
      "execution_count": 141,
      "metadata": {
        "id": "RqMVGjJ3Ms_Y"
      },
      "outputs": [],
      "source": [
        "# 컬럼명 재정의 \n",
        "for y in range(3):\n",
        "  for m in range(1,10) :\n",
        "    old_col = ff_production.columns[12*y+m]\n",
        "    new_col = ff_production.columns[12*y+m].replace(\" \",\"\").replace(f\"{2019+y}.0{m}월\",f\"{2019+y}.{m}\") \n",
        "    ff_production.rename(columns = {old_col:new_col}, inplace =True) \n",
        "# ff_production.columns[1].replace(\" \",\"\").replace(f\"{2018+1}.0{str(1)}월\",f\"{2018+1}년.{str(1)}\") \n",
        "  for m in range(10,13):\n",
        "    old_col = ff_production.columns[12*y+m]\n",
        "    new_col = ff_production.columns[12*y+m].replace(\" \",\"\").replace(\"월\",\"\").replace(\"년\",\"\")\n",
        "    ff_production.rename(columns = {old_col:new_col}, inplace =True) "
      ]
    },
    {
      "cell_type": "markdown",
      "metadata": {
        "id": "1yO6NzZADzzg"
      },
      "source": [
        "1. 생산량data의 행정구역이 총 11개로 구분되어있고, 우리가 보고자 하는 곳에서 경기도와 제주도에 해당되는 곳 없음   \n",
        "  → '경기도'와 '제주도' row 제거  \n",
        "2. 평균가 data에서 각 행정구역에 해당하는 지역별로 합쳐서 평균내어 계산 \n",
        "  → 그럼 생산량 data와 같은 형태로 9개의 행정구역으로 구분됨  \n",
        "3. 생산량 data가 월별로 나타나 있으니까 평균가 data도 월별로 평균내서 생산량 data와 형식 맞춤\n",
        "\n",
        "4. 준비된 데이터로 관계분석  \n",
        "\n",
        "---------------------------------------------------------------------------\n",
        "* 부산광역시 - '부산시'\n",
        "* 인천광역시 - '인천'\n",
        "* 울산광역시 - '울산' \n",
        "* 경기도 - \n",
        "* 강원도 -  '삼척', '강릉시', '속초시', '동해시'\n",
        "* 충청남도 - '서산', '안면도', '대천서부', '서천서부',\n",
        "* 전라북도 - '군산시',\n",
        "* 전라남도 - '목포', '전남서부어류양식', '고흥군', '여수',\n",
        "* 경상북도 - '포항',\n",
        "* 경상남도 - '남해군', '통영', '거제',\n",
        "* 제주도 - "
      ]
    },
    {
      "cell_type": "markdown",
      "metadata": {
        "id": "3QCdcuOzGRYg"
      },
      "source": [
        "생산량 data에서 '경기도'와 '제주도' row 제거  "
      ]
    },
    {
      "cell_type": "code",
      "execution_count": 142,
      "metadata": {
        "id": "823IPbpaGlot"
      },
      "outputs": [],
      "source": [
        "ff_production.drop([3,10], axis=0, inplace=True)\n",
        "ff_production.reset_index(drop=True, inplace=True)"
      ]
    },
    {
      "cell_type": "markdown",
      "metadata": {
        "id": "4AMh3n-SHHR8"
      },
      "source": [
        " 평균가 data에서 각 행정구역에 해당하는 지역별 월별 평균냄   \n",
        "  → 그럼 생산량 data와 같은 형태로 9개의 행정구역으로 구분됨  "
      ]
    },
    {
      "cell_type": "code",
      "execution_count": 143,
      "metadata": {
        "id": "uq27zaUuCdFQ"
      },
      "outputs": [],
      "source": [
        "# 우선 광어의 생산량과 가격을 비교할 것이기 때문에 광어만 뽑아서 저장함\n",
        "df = pd.read_csv('/content/drive/MyDrive/멀티캠퍼스/2조/이경희/수산물_위판정보_전처리완료.csv')\n",
        "ff_df = df[df['수산물표준코드명'] == '광어']\n",
        "ff_df.reset_index(drop=True, inplace=True)"
      ]
    },
    {
      "cell_type": "code",
      "execution_count": 144,
      "metadata": {
        "id": "hnhpUViIDTCK"
      },
      "outputs": [],
      "source": [
        "# 월별 평균가를 넣은 df형식을 생산량df 형태와 동일하도록 복사해옴\n",
        "from copy import deepcopy\n",
        "ff_price = deepcopy(ff_production)\n",
        "ff_price.set_index('행정구역별',inplace=True)\n",
        "\n",
        "# ff_price 의 모든 값을 0으로 초기화\n",
        "for row in range(len(ff_price)):\n",
        "  for col in range(len(ff_price.columns)):\n",
        "    ff_price.iloc[row,col] = 0"
      ]
    },
    {
      "cell_type": "code",
      "execution_count": 145,
      "metadata": {
        "id": "k6-VleaOMUuL",
        "colab": {
          "base_uri": "https://localhost:8080/"
        },
        "outputId": "f78c3f2e-06a6-44e4-9a66-9f393c15532c"
      },
      "outputs": [
        {
          "output_type": "stream",
          "name": "stderr",
          "text": [
            "/usr/local/lib/python3.7/dist-packages/pandas/core/indexing.py:1817: SettingWithCopyWarning: \n",
            "A value is trying to be set on a copy of a slice from a DataFrame.\n",
            "Try using .loc[row_indexer,col_indexer] = value instead\n",
            "\n",
            "See the caveats in the documentation: https://pandas.pydata.org/pandas-docs/stable/user_guide/indexing.html#returning-a-view-versus-a-copy\n",
            "  self._setitem_single_column(loc, value, pi)\n"
          ]
        }
      ],
      "source": [
        "# 위판일자 값 수정\n",
        "for row in range(len(ff_df)):\n",
        "  ff_df.loc[row, '위판일자'] = ff_df.loc[row, '위판일자'].replace('-0','-')"
      ]
    },
    {
      "cell_type": "markdown",
      "source": [
        "이것도 \n",
        "ex)  ff_df를 보면 분명 2019년 3월 강원도에 속하는 지역들의 평균가 값들이 많이 나와있지만   \n",
        "ff_price 데이터프레임에 2019.3월 강원도의 값이 대체가 안 되어 있음\n"
      ],
      "metadata": {
        "id": "Q7IUTmygfMA2"
      }
    },
    {
      "cell_type": "code",
      "execution_count": null,
      "metadata": {
        "id": "XhWY0OvmaHXA"
      },
      "outputs": [],
      "source": [
        "# 각 행정구역에 해당하는 지역별로 평균내기\n",
        "for y in range(3):  \n",
        "  for m in range(1,13) :  \n",
        "    Busan, Incheon, Ulsan, Gangwon, Chungnam, Jeonbuk, Jeonnam, Gyeongbuk, Gyeongnam = [], [], [], [], [], [], [], [], []\n",
        "    for d in range(1,32): \n",
        "      for row in range(len(ff_df)):\n",
        "        if ff_df.loc[row,'산지조합명'] == '부산시' and ff_df.loc[row,'위판일자'] == f'{2019+y}-{m}-{d}' : Busan.append(ff_df.loc[row,'평균가'])\n",
        "        elif ff_df.loc[row,'산지조합명'] == '인천' and ff_df.loc[row,'위판일자'] == f'{2019+y}-{m}-{d}' : Incheon.append(ff_df.loc[row,'평균가'])\n",
        "        elif ff_df.loc[row,'산지조합명'] == '울산' and ff_df.loc[row,'위판일자'] == f'{2019+y}-{m}-{d}' : Ulsan.append(ff_df.loc[row,'평균가'])\n",
        "        elif (ff_df.loc[row,'산지조합명'] == '삼척' or ff_df.loc[row,'산지조합명'] == '강릉시' or ff_df.loc[row,'산지조합명'] == '속초시' or ff_df.loc[row,'산지조합명'] == '동해시') and ff_df.loc[row,'위판일자'] == f'{2019+y}-{m}-{d}' : Gangwon.append(ff_df.loc[row,'평균가'])\n",
        "        elif (ff_df.loc[row,'산지조합명'] == '서산' or ff_df.loc[row,'산지조합명'] == '안면도' or ff_df.loc[row,'산지조합명'] == '대천서부' or ff_df.loc[row,'산지조합명'] == '서천서부') and ff_df.loc[row,'위판일자'] == f'{2019+y}-{m}-{d}' : Chungnam.append(ff_df.loc[row,'평균가'])\n",
        "        elif ff_df.loc[row,'산지조합명'] == '군산시' and ff_df.loc[row,'위판일자'] == f'{2019+y}-{m}-{d}' : Jeonbuk.append(ff_df.loc[row,'평균가'])\n",
        "        elif (ff_df.loc[row,'산지조합명'] == '삼척' or ff_df.loc[row,'산지조합명'] == '목포' or ff_df.loc[row,'산지조합명'] == '전남서부어류양식' or ff_df.loc[row,'산지조합명'] == '고흥군' or ff_df.loc[row,'산지조합명'] == '여수') and ff_df.loc[row,'위판일자'] == f'{2019+y}-{m}-{d}' : Jeonnam.append(ff_df.loc[row,'평균가'])\n",
        "        elif ff_df.loc[row,'산지조합명'] == '포항' and ff_df.loc[row,'위판일자'] == f'{2019+y}-{m}-{d}' : Gyeongbuk.append(ff_df.loc[row,'평균가'])\n",
        "        elif (ff_df.loc[row,'산지조합명'] == '남해군' or ff_df.loc[row,'산지조합명'] == '통영' or ff_df.loc[row,'산지조합명'] == '거제') and ff_df.loc[row,'위판일자'] == f'{2019+y}-{m}-{d}' : Gyeongnam.append(ff_df.loc[row,'평균가'])\n",
        "    try : ff_price.loc['부산광역시',f'{2019+y}.{m}'] = round(sum(Busan)/len(Busan), 1)\n",
        "    except : pass\n",
        "    try : ff_price.loc['인천광역시',f'{2019+y}.{m}'] = round(sum(Incheon)/len(Incheon), 1)\n",
        "    except : pass\n",
        "    try : ff_price.loc['울산광역시',f'{2019+y}.{m}'] = round(sum(Ulsan)/len(Ulsan), 1)\n",
        "    except : pass\n",
        "    try : ff_price.loc['강원도',f'{2019+y}.{m}'] = round(sum(Gangwon)/len(Gangwon), 1)\n",
        "    except : pass\n",
        "    try : ff_price.loc['충청남도',f'{2019+y}.{m}'] = round(sum(Chungnam)/len(Chungnam), 1)\n",
        "    except : pass\n",
        "    try : ff_price.loc['전라북도',f'{2019+y}.{m}'] = round(sum(Jeonbuk)/len(Jeonbuk), 1)\n",
        "    except : pass\n",
        "    try : ff_price.loc['전라남도',f'{2019+y}.{m}'] = round(sum(Jeonnam)/len(Jeonnam), 1)\n",
        "    except : pass\n",
        "    try : ff_price.loc['경상북도',f'{2019+y}.{m}'] = round(sum(Gyeongbuk)/len(Gyeongbuk), 1)\n",
        "    except : pass\n",
        "    try : ff_price.loc['경상남도',f'{2019+y}.{m}'] = round(sum(Gyeongnam)/len(Gyeongnam), 1)\n",
        "    except : pass"
      ]
    },
    {
      "cell_type": "code",
      "execution_count": null,
      "metadata": {
        "id": "PEB9FNeig3qL"
      },
      "outputs": [],
      "source": [
        "# 행정구역별_월별_광어_평균가\n",
        "# pd.DataFrame(ff_price).to_csv('/content/drive/MyDrive/멀티캠퍼스/2조/이경희/행정구역별_평균가_광어.csv')"
      ]
    },
    {
      "cell_type": "code",
      "execution_count": 71,
      "metadata": {
        "id": "jl4JfA_7fdQy"
      },
      "outputs": [],
      "source": [
        "# ff_price  "
      ]
    },
    {
      "cell_type": "markdown",
      "source": [
        "# 방어"
      ],
      "metadata": {
        "id": "L24DVFJ6H9PG"
      }
    },
    {
      "cell_type": "code",
      "execution_count": 72,
      "metadata": {
        "id": "60UNdpTDH9PN"
      },
      "outputs": [],
      "source": [
        "# 해면어업 방어 생산량 \n",
        "yellowtail_production = pd.read_csv('/content/drive/MyDrive/멀티캠퍼스/2조/이경희/행정구역별 해면어업 방어류 생산량.csv')"
      ]
    },
    {
      "cell_type": "code",
      "execution_count": 73,
      "metadata": {
        "colab": {
          "base_uri": "https://localhost:8080/"
        },
        "id": "YCrkoQFyH9PO",
        "outputId": "876062fb-b909-431b-e6ac-a554e0d8bcb3"
      },
      "outputs": [
        {
          "output_type": "execute_result",
          "data": {
            "text/plain": [
              "0"
            ]
          },
          "metadata": {},
          "execution_count": 73
        }
      ],
      "source": [
        "yellowtail_production.isna().sum().sum() # 결측치 확인"
      ]
    },
    {
      "cell_type": "code",
      "execution_count": 74,
      "metadata": {
        "colab": {
          "base_uri": "https://localhost:8080/"
        },
        "outputId": "6e45e72c-afa4-4632-ec07-80c30a9a0b19",
        "id": "h4GTTOmRH9PO"
      },
      "outputs": [
        {
          "output_type": "execute_result",
          "data": {
            "text/plain": [
              "array(['부산광역시', '인천광역시', '울산광역시', '강원도', '충청남도', '전라북도', '전라남도', '경상북도',\n",
              "       '경상남도', '제주도'], dtype=object)"
            ]
          },
          "metadata": {},
          "execution_count": 74
        }
      ],
      "source": [
        "yellowtail_production['행정구역별'].values"
      ]
    },
    {
      "cell_type": "code",
      "execution_count": 75,
      "metadata": {
        "id": "9MbWIARZH9PO"
      },
      "outputs": [],
      "source": [
        "# 컬럼명 재정의 \n",
        "for y in range(3):\n",
        "  for m in range(1,10) :\n",
        "    old_col = yellowtail_production.columns[12*y+m]\n",
        "    new_col = yellowtail_production.columns[12*y+m].replace(\" \",\"\").replace(f\"{2019+y}.0{m}월\",f\"{2019+y}.{m}\") \n",
        "    yellowtail_production.rename(columns = {old_col:new_col}, inplace =True) \n",
        "# yellowtail_production.columns[1].replace(\" \",\"\").replace(f\"{2018+1}.0{str(1)}월\",f\"{2018+1}년.{str(1)}\") \n",
        "  for m in range(10,13):\n",
        "    old_col = yellowtail_production.columns[12*y+m]\n",
        "    new_col = yellowtail_production.columns[12*y+m].replace(\" \",\"\").replace(\"월\",\"\").replace(\"년\",\"\")\n",
        "    yellowtail_production.rename(columns = {old_col:new_col}, inplace =True) "
      ]
    },
    {
      "cell_type": "code",
      "source": [
        "# yellowtail_production"
      ],
      "metadata": {
        "id": "j9fBN7rEIw_v"
      },
      "execution_count": 76,
      "outputs": []
    },
    {
      "cell_type": "markdown",
      "metadata": {
        "id": "eEyBYvSwH9PO"
      },
      "source": [
        "생산량 data에서 '경기도'와 '제주도' row 제거  \n",
        "\n",
        "* 생산량data의 행정구역이 총 1개로 구분되어있고, 우리가 보고자 하는 곳에서 제주도에 해당되는 곳 없음  \n",
        "→ '제주도' row 제거"
      ]
    },
    {
      "cell_type": "code",
      "execution_count": 77,
      "metadata": {
        "id": "oIsew4tRH9PO"
      },
      "outputs": [],
      "source": [
        "yellowtail_production.drop([9], axis=0, inplace=True)"
      ]
    },
    {
      "cell_type": "code",
      "source": [
        "len(yellowtail_production['행정구역별'].values)"
      ],
      "metadata": {
        "id": "VOgci7yaJEuT",
        "colab": {
          "base_uri": "https://localhost:8080/"
        },
        "outputId": "fc5a64a7-270e-4109-ede1-3c2a942f56b9"
      },
      "execution_count": 78,
      "outputs": [
        {
          "output_type": "execute_result",
          "data": {
            "text/plain": [
              "9"
            ]
          },
          "metadata": {},
          "execution_count": 78
        }
      ]
    },
    {
      "cell_type": "markdown",
      "metadata": {
        "id": "mTpMhb0tH9PP"
      },
      "source": [
        "평균가 data에서 각 행정구역에 해당하는 지역별 월별 평균냄   \n",
        "  → 그럼 생산량 data와 같은 형태로 9개의 행정구역으로 구분됨  "
      ]
    },
    {
      "cell_type": "code",
      "execution_count": 79,
      "metadata": {
        "id": "QccM1wQ4H9PP"
      },
      "outputs": [],
      "source": [
        "df = pd.read_csv('/content/drive/MyDrive/멀티캠퍼스/2조/이경희/수산물_위판정보_전처리완료.csv')\n",
        "yellowtail_df = df[df['수산물표준코드명'] == '방어']\n",
        "yellowtail_df.reset_index(drop=True, inplace=True)"
      ]
    },
    {
      "cell_type": "code",
      "execution_count": 80,
      "metadata": {
        "id": "WQAqhZjVH9PP"
      },
      "outputs": [],
      "source": [
        "# 월별 평균가를 넣은 df형식을 생산량df 형태와 동일하도록 복사해옴\n",
        "from copy import deepcopy\n",
        "yellowtail_price = deepcopy(yellowtail_production)\n",
        "yellowtail_price.set_index('행정구역별',inplace=True)\n",
        "\n",
        "# yellowtail_price 의 모든 값을 0으로 초기화\n",
        "for row in range(len(yellowtail_price)):\n",
        "  for col in range(len(yellowtail_price.columns)):\n",
        "    yellowtail_price.iloc[row,col] = 0"
      ]
    },
    {
      "cell_type": "code",
      "execution_count": 81,
      "metadata": {
        "colab": {
          "base_uri": "https://localhost:8080/"
        },
        "outputId": "801f0757-763a-4ea3-abfa-95b4dcc0126a",
        "id": "YUgZlpDrH9PP"
      },
      "outputs": [
        {
          "output_type": "stream",
          "name": "stderr",
          "text": [
            "/usr/local/lib/python3.7/dist-packages/pandas/core/indexing.py:1817: SettingWithCopyWarning: \n",
            "A value is trying to be set on a copy of a slice from a DataFrame.\n",
            "Try using .loc[row_indexer,col_indexer] = value instead\n",
            "\n",
            "See the caveats in the documentation: https://pandas.pydata.org/pandas-docs/stable/user_guide/indexing.html#returning-a-view-versus-a-copy\n",
            "  self._setitem_single_column(loc, value, pi)\n"
          ]
        }
      ],
      "source": [
        "for row in range(len(yellowtail_df)):\n",
        "  yellowtail_df.loc[row, '위판일자'] = yellowtail_df.loc[row, '위판일자'].replace('-0','-')"
      ]
    },
    {
      "cell_type": "code",
      "execution_count": 82,
      "metadata": {
        "id": "13MZQ3SMH9PP"
      },
      "outputs": [],
      "source": [
        "# 각 행정구역에 해당하는 지역별로 평균내기\n",
        "for y in range(3): \n",
        "  for m in range(1,13) :   \n",
        "    Busan, Incheon, Ulsan, Gangwon, Chungnam, Jeonbuk, Jeonnam, Gyeongbuk, Gyeongnam = [], [], [], [], [], [], [], [], []\n",
        "    for d in range(1,32): \n",
        "      for row in range(len(yellowtail_df)):\n",
        "        if yellowtail_df.loc[row,'산지조합명'] == '부산시' and yellowtail_df.loc[row,'위판일자'] == f'{2019+y}-{m}-{d}' : Busan.append(yellowtail_df.loc[row,'평균가'])\n",
        "        if yellowtail_df.loc[row,'산지조합명'] == '인천' and yellowtail_df.loc[row,'위판일자'] == f'{2019+y}-{m}-{d}' : Incheon.append(yellowtail_df.loc[row,'평균가'])\n",
        "        if yellowtail_df.loc[row,'산지조합명'] == '울산' and yellowtail_df.loc[row,'위판일자'] == f'{2019+y}-{m}-{d}' : Ulsan.append(yellowtail_df.loc[row,'평균가'])\n",
        "        if (yellowtail_df.loc[row,'산지조합명'] == '삼척' or yellowtail_df.loc[row,'산지조합명'] == '강릉시' or yellowtail_df.loc[row,'산지조합명'] == '속초시' or yellowtail_df.loc[row,'산지조합명'] == '동해시') and yellowtail_df.loc[row,'위판일자'] == f'{2019+y}-{m}-{d}' : Gangwon.append(yellowtail_df.loc[row,'평균가'])\n",
        "        if (yellowtail_df.loc[row,'산지조합명'] == '서산' or yellowtail_df.loc[row,'산지조합명'] == '안면도' or yellowtail_df.loc[row,'산지조합명'] == '대천서부' or yellowtail_df.loc[row,'산지조합명'] == '서천서부') and yellowtail_df.loc[row,'위판일자'] == f'{2019+y}-{m}-{d}' : Chungnam.append(yellowtail_df.loc[row,'평균가'])\n",
        "        if yellowtail_df.loc[row,'산지조합명'] == '군산시' and yellowtail_df.loc[row,'위판일자'] == f'{2019+y}-{m}-{d}' : Jeonbuk.append(yellowtail_df.loc[row,'평균가'])\n",
        "        if (yellowtail_df.loc[row,'산지조합명'] == '삼척' or yellowtail_df.loc[row,'산지조합명'] == '목포' or yellowtail_df.loc[row,'산지조합명'] == '전남서부어류양식' or yellowtail_df.loc[row,'산지조합명'] == '고흥군' or yellowtail_df.loc[row,'산지조합명'] == '여수') and yellowtail_df.loc[row,'위판일자'] == f'{2019+y}-{m}-{d}' : Jeonnam.append(yellowtail_df.loc[row,'평균가'])\n",
        "        if yellowtail_df.loc[row,'산지조합명'] == '포항' and yellowtail_df.loc[row,'위판일자'] == f'{2019+y}-{m}-{d}' : Gyeongbuk.append(yellowtail_df.loc[row,'평균가'])\n",
        "        if (yellowtail_df.loc[row,'산지조합명'] == '남해군' or yellowtail_df.loc[row,'산지조합명'] == '통영' or yellowtail_df.loc[row,'산지조합명'] == '거제') and yellowtail_df.loc[row,'위판일자'] == f'{2019+y}-{m}-{d}' : Gyeongnam.append(yellowtail_df.loc[row,'평균가']  \n",
        "    try : yellowtail_price.loc['부산광역시',f'{2019+y}.{m}'] = round(sum(Busan)/len(Busan), 2)\n",
        "    except : pass\n",
        "    try : yellowtail_price.loc['인천광역시',f'{2019+y}.{m}'] = round(sum(Incheon)/len(Incheon), 2)\n",
        "    except : pass\n",
        "    try : yellowtail_price.loc['울산광역시',f'{2019+y}.{m}'] = round(sum(Ulsan)/len(Ulsan), 2)\n",
        "    except : pass\n",
        "    try : yellowtail_price.loc['강원도',f'{2019+y}.{m}'] = round(sum(Gangwon)/len(Gangwon), 2)\n",
        "    except : pass\n",
        "    try : yellowtail_price.loc['충청남도',f'{2019+y}.{m}'] = round(sum(Chungnam)/len(Chungnam), 2)\n",
        "    except : pass\n",
        "    try : yellowtail_price.loc['전라북도',f'{2019+y}.{m}'] = round(sum(Jeonbuk)/len(Jeonbuk), 2)\n",
        "    except : pass\n",
        "    try : yellowtail_price.loc['전라남도',f'{2019+y}.{m}'] = round(sum(Jeonnam)/len(Jeonnam), 2)\n",
        "    except : pass\n",
        "    try : yellowtail_price.loc['경상북도',f'{2019+y}.{m}'] = round(sum(Gyeongbuk)/len(Gyeongbuk), 2)\n",
        "    except : pass\n",
        "    try : yellowtail_price.loc['경상남도',f'{2019+y}.{m}'] = round(sum(Gyeongnam)/len(Gyeongnam), 2)\n",
        "    except : pass"
      ]
    },
    {
      "cell_type": "code",
      "execution_count": 83,
      "metadata": {
        "id": "9JZnU8b_H9PP"
      },
      "outputs": [],
      "source": [
        "# 행정구역별_월별_방어_평균가\n",
        "# pd.DataFrame(yellowtail_price).to_csv('/content/drive/MyDrive/멀티캠퍼스/2조/이경희/행정구역별_평균가_방어.csv')"
      ]
    },
    {
      "cell_type": "code",
      "source": [
        "yellowtail_price"
      ],
      "metadata": {
        "colab": {
          "base_uri": "https://localhost:8080/",
          "height": 1000
        },
        "id": "LxeH_184T9Wi",
        "outputId": "27ae5e9f-8032-4c2d-c32f-c649cfd39c7d"
      },
      "execution_count": 84,
      "outputs": [
        {
          "output_type": "execute_result",
          "data": {
            "text/html": [
              "\n",
              "  <div id=\"df-d2ef68b4-6c16-4455-91ee-48818ddf064c\">\n",
              "    <div class=\"colab-df-container\">\n",
              "      <div>\n",
              "<style scoped>\n",
              "    .dataframe tbody tr th:only-of-type {\n",
              "        vertical-align: middle;\n",
              "    }\n",
              "\n",
              "    .dataframe tbody tr th {\n",
              "        vertical-align: top;\n",
              "    }\n",
              "\n",
              "    .dataframe thead th {\n",
              "        text-align: right;\n",
              "    }\n",
              "</style>\n",
              "<table border=\"1\" class=\"dataframe\">\n",
              "  <thead>\n",
              "    <tr style=\"text-align: right;\">\n",
              "      <th></th>\n",
              "      <th>2019.1</th>\n",
              "      <th>2019.2</th>\n",
              "      <th>2019.3</th>\n",
              "      <th>2019.4</th>\n",
              "      <th>2019.5</th>\n",
              "      <th>2019.6</th>\n",
              "      <th>2019.7</th>\n",
              "      <th>2019.8</th>\n",
              "      <th>2019.9</th>\n",
              "      <th>2019.10</th>\n",
              "      <th>2019.11</th>\n",
              "      <th>2019.12</th>\n",
              "      <th>2020.1</th>\n",
              "      <th>2020.2</th>\n",
              "      <th>2020.3</th>\n",
              "      <th>2020.4</th>\n",
              "      <th>2020.5</th>\n",
              "      <th>2020.6</th>\n",
              "      <th>2020.7</th>\n",
              "      <th>2020.8</th>\n",
              "      <th>2020.9</th>\n",
              "      <th>2020.10</th>\n",
              "      <th>2020.11</th>\n",
              "      <th>2020.12</th>\n",
              "      <th>2021.1</th>\n",
              "      <th>2021.2</th>\n",
              "      <th>2021.3</th>\n",
              "      <th>2021.4</th>\n",
              "      <th>2021.5</th>\n",
              "      <th>2021.6</th>\n",
              "      <th>2021.7</th>\n",
              "      <th>2021.8</th>\n",
              "      <th>2021.9</th>\n",
              "      <th>2021.10</th>\n",
              "      <th>2021.11</th>\n",
              "      <th>2021.12</th>\n",
              "    </tr>\n",
              "    <tr>\n",
              "      <th>행정구역별</th>\n",
              "      <th></th>\n",
              "      <th></th>\n",
              "      <th></th>\n",
              "      <th></th>\n",
              "      <th></th>\n",
              "      <th></th>\n",
              "      <th></th>\n",
              "      <th></th>\n",
              "      <th></th>\n",
              "      <th></th>\n",
              "      <th></th>\n",
              "      <th></th>\n",
              "      <th></th>\n",
              "      <th></th>\n",
              "      <th></th>\n",
              "      <th></th>\n",
              "      <th></th>\n",
              "      <th></th>\n",
              "      <th></th>\n",
              "      <th></th>\n",
              "      <th></th>\n",
              "      <th></th>\n",
              "      <th></th>\n",
              "      <th></th>\n",
              "      <th></th>\n",
              "      <th></th>\n",
              "      <th></th>\n",
              "      <th></th>\n",
              "      <th></th>\n",
              "      <th></th>\n",
              "      <th></th>\n",
              "      <th></th>\n",
              "      <th></th>\n",
              "      <th></th>\n",
              "      <th></th>\n",
              "      <th></th>\n",
              "    </tr>\n",
              "  </thead>\n",
              "  <tbody>\n",
              "    <tr>\n",
              "      <th>부산광역시</th>\n",
              "      <td>8000.00</td>\n",
              "      <td>0.00</td>\n",
              "      <td>9000.00</td>\n",
              "      <td>12722.17</td>\n",
              "      <td>6094.73</td>\n",
              "      <td>2750.00</td>\n",
              "      <td>6750.00</td>\n",
              "      <td>9000.00</td>\n",
              "      <td>15200.00</td>\n",
              "      <td>10675.44</td>\n",
              "      <td>5248.11</td>\n",
              "      <td>10858.42</td>\n",
              "      <td>6333.29</td>\n",
              "      <td>5240.00</td>\n",
              "      <td>7750.00</td>\n",
              "      <td>8996.67</td>\n",
              "      <td>2000.00</td>\n",
              "      <td>0.00</td>\n",
              "      <td>0.00</td>\n",
              "      <td>9500.00</td>\n",
              "      <td>8416.50</td>\n",
              "      <td>4755.56</td>\n",
              "      <td>4465.25</td>\n",
              "      <td>10420.00</td>\n",
              "      <td>19444.33</td>\n",
              "      <td>11000.00</td>\n",
              "      <td>7000.00</td>\n",
              "      <td>8000.00</td>\n",
              "      <td>1000.00</td>\n",
              "      <td>3783.40</td>\n",
              "      <td>15458.33</td>\n",
              "      <td>14361.17</td>\n",
              "      <td>5625.00</td>\n",
              "      <td>9486.17</td>\n",
              "      <td>9963.56</td>\n",
              "      <td>15000.00</td>\n",
              "    </tr>\n",
              "    <tr>\n",
              "      <th>인천광역시</th>\n",
              "      <td>0.00</td>\n",
              "      <td>0.00</td>\n",
              "      <td>0.00</td>\n",
              "      <td>0.00</td>\n",
              "      <td>0.00</td>\n",
              "      <td>0.00</td>\n",
              "      <td>0.00</td>\n",
              "      <td>0.00</td>\n",
              "      <td>0.00</td>\n",
              "      <td>0.00</td>\n",
              "      <td>0.00</td>\n",
              "      <td>10000.00</td>\n",
              "      <td>0.00</td>\n",
              "      <td>0.00</td>\n",
              "      <td>0.00</td>\n",
              "      <td>0.00</td>\n",
              "      <td>0.00</td>\n",
              "      <td>0.00</td>\n",
              "      <td>0.00</td>\n",
              "      <td>0.00</td>\n",
              "      <td>0.00</td>\n",
              "      <td>0.00</td>\n",
              "      <td>0.00</td>\n",
              "      <td>0.00</td>\n",
              "      <td>0.00</td>\n",
              "      <td>0.00</td>\n",
              "      <td>0.00</td>\n",
              "      <td>0.00</td>\n",
              "      <td>0.00</td>\n",
              "      <td>0.00</td>\n",
              "      <td>0.00</td>\n",
              "      <td>0.00</td>\n",
              "      <td>0.00</td>\n",
              "      <td>0.00</td>\n",
              "      <td>0.00</td>\n",
              "      <td>25000.00</td>\n",
              "    </tr>\n",
              "    <tr>\n",
              "      <th>울산광역시</th>\n",
              "      <td>0.00</td>\n",
              "      <td>0.00</td>\n",
              "      <td>0.00</td>\n",
              "      <td>0.00</td>\n",
              "      <td>0.00</td>\n",
              "      <td>0.00</td>\n",
              "      <td>0.00</td>\n",
              "      <td>0.00</td>\n",
              "      <td>0.00</td>\n",
              "      <td>0.00</td>\n",
              "      <td>0.00</td>\n",
              "      <td>0.00</td>\n",
              "      <td>0.00</td>\n",
              "      <td>0.00</td>\n",
              "      <td>0.00</td>\n",
              "      <td>0.00</td>\n",
              "      <td>0.00</td>\n",
              "      <td>0.00</td>\n",
              "      <td>0.00</td>\n",
              "      <td>0.00</td>\n",
              "      <td>0.00</td>\n",
              "      <td>0.00</td>\n",
              "      <td>0.00</td>\n",
              "      <td>0.00</td>\n",
              "      <td>0.00</td>\n",
              "      <td>0.00</td>\n",
              "      <td>0.00</td>\n",
              "      <td>0.00</td>\n",
              "      <td>0.00</td>\n",
              "      <td>0.00</td>\n",
              "      <td>0.00</td>\n",
              "      <td>0.00</td>\n",
              "      <td>0.00</td>\n",
              "      <td>0.00</td>\n",
              "      <td>0.00</td>\n",
              "      <td>0.00</td>\n",
              "    </tr>\n",
              "    <tr>\n",
              "      <th>강원도</th>\n",
              "      <td>54385.75</td>\n",
              "      <td>54738.62</td>\n",
              "      <td>57158.23</td>\n",
              "      <td>34636.29</td>\n",
              "      <td>22475.67</td>\n",
              "      <td>28639.11</td>\n",
              "      <td>29837.94</td>\n",
              "      <td>36376.86</td>\n",
              "      <td>36986.91</td>\n",
              "      <td>40292.22</td>\n",
              "      <td>48280.48</td>\n",
              "      <td>44949.67</td>\n",
              "      <td>45218.52</td>\n",
              "      <td>54046.94</td>\n",
              "      <td>49514.92</td>\n",
              "      <td>34940.99</td>\n",
              "      <td>24105.30</td>\n",
              "      <td>26927.99</td>\n",
              "      <td>38684.06</td>\n",
              "      <td>50001.20</td>\n",
              "      <td>35988.58</td>\n",
              "      <td>35490.93</td>\n",
              "      <td>55413.23</td>\n",
              "      <td>48430.38</td>\n",
              "      <td>44910.16</td>\n",
              "      <td>56269.63</td>\n",
              "      <td>54670.58</td>\n",
              "      <td>34679.02</td>\n",
              "      <td>16586.06</td>\n",
              "      <td>27673.97</td>\n",
              "      <td>35395.88</td>\n",
              "      <td>44113.21</td>\n",
              "      <td>41266.40</td>\n",
              "      <td>43512.58</td>\n",
              "      <td>56679.25</td>\n",
              "      <td>51355.34</td>\n",
              "    </tr>\n",
              "    <tr>\n",
              "      <th>충청남도</th>\n",
              "      <td>0.00</td>\n",
              "      <td>0.00</td>\n",
              "      <td>0.00</td>\n",
              "      <td>0.00</td>\n",
              "      <td>0.00</td>\n",
              "      <td>9375.00</td>\n",
              "      <td>2500.00</td>\n",
              "      <td>9666.62</td>\n",
              "      <td>21396.15</td>\n",
              "      <td>24671.08</td>\n",
              "      <td>26166.71</td>\n",
              "      <td>15000.00</td>\n",
              "      <td>0.00</td>\n",
              "      <td>0.00</td>\n",
              "      <td>0.00</td>\n",
              "      <td>0.00</td>\n",
              "      <td>3000.00</td>\n",
              "      <td>13666.67</td>\n",
              "      <td>27091.67</td>\n",
              "      <td>23470.05</td>\n",
              "      <td>22496.26</td>\n",
              "      <td>20078.54</td>\n",
              "      <td>42250.00</td>\n",
              "      <td>22000.00</td>\n",
              "      <td>0.00</td>\n",
              "      <td>0.00</td>\n",
              "      <td>0.00</td>\n",
              "      <td>0.00</td>\n",
              "      <td>12433.33</td>\n",
              "      <td>9000.00</td>\n",
              "      <td>15453.35</td>\n",
              "      <td>12574.79</td>\n",
              "      <td>18444.03</td>\n",
              "      <td>18056.05</td>\n",
              "      <td>34305.50</td>\n",
              "      <td>20000.00</td>\n",
              "    </tr>\n",
              "    <tr>\n",
              "      <th>전라북도</th>\n",
              "      <td>0.00</td>\n",
              "      <td>0.00</td>\n",
              "      <td>0.00</td>\n",
              "      <td>0.00</td>\n",
              "      <td>21000.00</td>\n",
              "      <td>26000.00</td>\n",
              "      <td>30666.67</td>\n",
              "      <td>0.00</td>\n",
              "      <td>37770.88</td>\n",
              "      <td>27094.60</td>\n",
              "      <td>37896.43</td>\n",
              "      <td>0.00</td>\n",
              "      <td>0.00</td>\n",
              "      <td>0.00</td>\n",
              "      <td>0.00</td>\n",
              "      <td>0.00</td>\n",
              "      <td>22000.00</td>\n",
              "      <td>26000.00</td>\n",
              "      <td>29300.00</td>\n",
              "      <td>33333.33</td>\n",
              "      <td>14891.93</td>\n",
              "      <td>30293.95</td>\n",
              "      <td>38750.00</td>\n",
              "      <td>0.00</td>\n",
              "      <td>0.00</td>\n",
              "      <td>0.00</td>\n",
              "      <td>0.00</td>\n",
              "      <td>0.00</td>\n",
              "      <td>6125.00</td>\n",
              "      <td>16400.00</td>\n",
              "      <td>25075.00</td>\n",
              "      <td>33000.00</td>\n",
              "      <td>5019.50</td>\n",
              "      <td>8365.45</td>\n",
              "      <td>42525.00</td>\n",
              "      <td>16000.00</td>\n",
              "    </tr>\n",
              "    <tr>\n",
              "      <th>전라남도</th>\n",
              "      <td>54310.23</td>\n",
              "      <td>50543.50</td>\n",
              "      <td>59072.73</td>\n",
              "      <td>19993.10</td>\n",
              "      <td>13847.31</td>\n",
              "      <td>22698.72</td>\n",
              "      <td>20541.89</td>\n",
              "      <td>27797.12</td>\n",
              "      <td>31358.30</td>\n",
              "      <td>34964.97</td>\n",
              "      <td>48578.18</td>\n",
              "      <td>50519.16</td>\n",
              "      <td>56154.94</td>\n",
              "      <td>53739.20</td>\n",
              "      <td>42255.60</td>\n",
              "      <td>31027.31</td>\n",
              "      <td>17269.20</td>\n",
              "      <td>13754.83</td>\n",
              "      <td>47431.86</td>\n",
              "      <td>59515.93</td>\n",
              "      <td>26395.40</td>\n",
              "      <td>26585.97</td>\n",
              "      <td>44996.11</td>\n",
              "      <td>35265.25</td>\n",
              "      <td>44027.92</td>\n",
              "      <td>54273.88</td>\n",
              "      <td>45498.25</td>\n",
              "      <td>19282.14</td>\n",
              "      <td>6848.07</td>\n",
              "      <td>21696.20</td>\n",
              "      <td>25697.07</td>\n",
              "      <td>33382.12</td>\n",
              "      <td>36343.52</td>\n",
              "      <td>38557.16</td>\n",
              "      <td>53242.62</td>\n",
              "      <td>52505.06</td>\n",
              "    </tr>\n",
              "    <tr>\n",
              "      <th>경상북도</th>\n",
              "      <td>6906.57</td>\n",
              "      <td>9438.06</td>\n",
              "      <td>13176.33</td>\n",
              "      <td>9187.00</td>\n",
              "      <td>9818.66</td>\n",
              "      <td>10550.96</td>\n",
              "      <td>10930.50</td>\n",
              "      <td>17812.43</td>\n",
              "      <td>15340.70</td>\n",
              "      <td>12254.30</td>\n",
              "      <td>18694.48</td>\n",
              "      <td>12214.32</td>\n",
              "      <td>27440.13</td>\n",
              "      <td>21884.41</td>\n",
              "      <td>14612.62</td>\n",
              "      <td>8157.25</td>\n",
              "      <td>10207.53</td>\n",
              "      <td>14601.86</td>\n",
              "      <td>13782.23</td>\n",
              "      <td>25491.79</td>\n",
              "      <td>22719.31</td>\n",
              "      <td>15415.64</td>\n",
              "      <td>48592.38</td>\n",
              "      <td>46994.55</td>\n",
              "      <td>42201.50</td>\n",
              "      <td>50621.80</td>\n",
              "      <td>17766.33</td>\n",
              "      <td>12966.22</td>\n",
              "      <td>13951.07</td>\n",
              "      <td>11005.17</td>\n",
              "      <td>16718.43</td>\n",
              "      <td>31790.82</td>\n",
              "      <td>30189.04</td>\n",
              "      <td>24468.00</td>\n",
              "      <td>23136.00</td>\n",
              "      <td>47023.27</td>\n",
              "    </tr>\n",
              "    <tr>\n",
              "      <th>경상남도</th>\n",
              "      <td>37181.17</td>\n",
              "      <td>30157.98</td>\n",
              "      <td>16184.46</td>\n",
              "      <td>25496.59</td>\n",
              "      <td>22592.05</td>\n",
              "      <td>18840.31</td>\n",
              "      <td>21104.94</td>\n",
              "      <td>26652.29</td>\n",
              "      <td>24864.80</td>\n",
              "      <td>24133.86</td>\n",
              "      <td>32785.82</td>\n",
              "      <td>41890.96</td>\n",
              "      <td>38172.09</td>\n",
              "      <td>26659.60</td>\n",
              "      <td>18990.58</td>\n",
              "      <td>19233.91</td>\n",
              "      <td>18556.78</td>\n",
              "      <td>13628.15</td>\n",
              "      <td>22916.05</td>\n",
              "      <td>28547.42</td>\n",
              "      <td>23923.25</td>\n",
              "      <td>25499.81</td>\n",
              "      <td>37750.81</td>\n",
              "      <td>40956.03</td>\n",
              "      <td>47530.34</td>\n",
              "      <td>35845.46</td>\n",
              "      <td>22869.62</td>\n",
              "      <td>22522.98</td>\n",
              "      <td>19526.19</td>\n",
              "      <td>16626.30</td>\n",
              "      <td>24718.60</td>\n",
              "      <td>28721.54</td>\n",
              "      <td>32926.16</td>\n",
              "      <td>32297.06</td>\n",
              "      <td>33036.84</td>\n",
              "      <td>37111.39</td>\n",
              "    </tr>\n",
              "  </tbody>\n",
              "</table>\n",
              "</div>\n",
              "      <button class=\"colab-df-convert\" onclick=\"convertToInteractive('df-d2ef68b4-6c16-4455-91ee-48818ddf064c')\"\n",
              "              title=\"Convert this dataframe to an interactive table.\"\n",
              "              style=\"display:none;\">\n",
              "        \n",
              "  <svg xmlns=\"http://www.w3.org/2000/svg\" height=\"24px\"viewBox=\"0 0 24 24\"\n",
              "       width=\"24px\">\n",
              "    <path d=\"M0 0h24v24H0V0z\" fill=\"none\"/>\n",
              "    <path d=\"M18.56 5.44l.94 2.06.94-2.06 2.06-.94-2.06-.94-.94-2.06-.94 2.06-2.06.94zm-11 1L8.5 8.5l.94-2.06 2.06-.94-2.06-.94L8.5 2.5l-.94 2.06-2.06.94zm10 10l.94 2.06.94-2.06 2.06-.94-2.06-.94-.94-2.06-.94 2.06-2.06.94z\"/><path d=\"M17.41 7.96l-1.37-1.37c-.4-.4-.92-.59-1.43-.59-.52 0-1.04.2-1.43.59L10.3 9.45l-7.72 7.72c-.78.78-.78 2.05 0 2.83L4 21.41c.39.39.9.59 1.41.59.51 0 1.02-.2 1.41-.59l7.78-7.78 2.81-2.81c.8-.78.8-2.07 0-2.86zM5.41 20L4 18.59l7.72-7.72 1.47 1.35L5.41 20z\"/>\n",
              "  </svg>\n",
              "      </button>\n",
              "      \n",
              "  <style>\n",
              "    .colab-df-container {\n",
              "      display:flex;\n",
              "      flex-wrap:wrap;\n",
              "      gap: 12px;\n",
              "    }\n",
              "\n",
              "    .colab-df-convert {\n",
              "      background-color: #E8F0FE;\n",
              "      border: none;\n",
              "      border-radius: 50%;\n",
              "      cursor: pointer;\n",
              "      display: none;\n",
              "      fill: #1967D2;\n",
              "      height: 32px;\n",
              "      padding: 0 0 0 0;\n",
              "      width: 32px;\n",
              "    }\n",
              "\n",
              "    .colab-df-convert:hover {\n",
              "      background-color: #E2EBFA;\n",
              "      box-shadow: 0px 1px 2px rgba(60, 64, 67, 0.3), 0px 1px 3px 1px rgba(60, 64, 67, 0.15);\n",
              "      fill: #174EA6;\n",
              "    }\n",
              "\n",
              "    [theme=dark] .colab-df-convert {\n",
              "      background-color: #3B4455;\n",
              "      fill: #D2E3FC;\n",
              "    }\n",
              "\n",
              "    [theme=dark] .colab-df-convert:hover {\n",
              "      background-color: #434B5C;\n",
              "      box-shadow: 0px 1px 3px 1px rgba(0, 0, 0, 0.15);\n",
              "      filter: drop-shadow(0px 1px 2px rgba(0, 0, 0, 0.3));\n",
              "      fill: #FFFFFF;\n",
              "    }\n",
              "  </style>\n",
              "\n",
              "      <script>\n",
              "        const buttonEl =\n",
              "          document.querySelector('#df-d2ef68b4-6c16-4455-91ee-48818ddf064c button.colab-df-convert');\n",
              "        buttonEl.style.display =\n",
              "          google.colab.kernel.accessAllowed ? 'block' : 'none';\n",
              "\n",
              "        async function convertToInteractive(key) {\n",
              "          const element = document.querySelector('#df-d2ef68b4-6c16-4455-91ee-48818ddf064c');\n",
              "          const dataTable =\n",
              "            await google.colab.kernel.invokeFunction('convertToInteractive',\n",
              "                                                     [key], {});\n",
              "          if (!dataTable) return;\n",
              "\n",
              "          const docLinkHtml = 'Like what you see? Visit the ' +\n",
              "            '<a target=\"_blank\" href=https://colab.research.google.com/notebooks/data_table.ipynb>data table notebook</a>'\n",
              "            + ' to learn more about interactive tables.';\n",
              "          element.innerHTML = '';\n",
              "          dataTable['output_type'] = 'display_data';\n",
              "          await google.colab.output.renderOutput(dataTable, element);\n",
              "          const docLink = document.createElement('div');\n",
              "          docLink.innerHTML = docLinkHtml;\n",
              "          element.appendChild(docLink);\n",
              "        }\n",
              "      </script>\n",
              "    </div>\n",
              "  </div>\n",
              "  "
            ],
            "text/plain": [
              "         2019.1    2019.2    2019.3  ...   2021.10   2021.11   2021.12\n",
              "행정구역별                                ...                              \n",
              "부산광역시   8000.00      0.00   9000.00  ...   9486.17   9963.56  15000.00\n",
              "인천광역시      0.00      0.00      0.00  ...      0.00      0.00  25000.00\n",
              "울산광역시      0.00      0.00      0.00  ...      0.00      0.00      0.00\n",
              "강원도    54385.75  54738.62  57158.23  ...  43512.58  56679.25  51355.34\n",
              "충청남도       0.00      0.00      0.00  ...  18056.05  34305.50  20000.00\n",
              "전라북도       0.00      0.00      0.00  ...   8365.45  42525.00  16000.00\n",
              "전라남도   54310.23  50543.50  59072.73  ...  38557.16  53242.62  52505.06\n",
              "경상북도    6906.57   9438.06  13176.33  ...  24468.00  23136.00  47023.27\n",
              "경상남도   37181.17  30157.98  16184.46  ...  32297.06  33036.84  37111.39\n",
              "\n",
              "[9 rows x 36 columns]"
            ]
          },
          "metadata": {},
          "execution_count": 84
        }
      ]
    },
    {
      "cell_type": "markdown",
      "source": [
        "# 감성돔"
      ],
      "metadata": {
        "id": "KW8W_6XgJx7S"
      }
    },
    {
      "cell_type": "code",
      "execution_count": 123,
      "metadata": {
        "id": "Bruh9BR3Jx7S"
      },
      "outputs": [],
      "source": [
        "# 해면어업 감성돔 생산량 \n",
        "black_porgy_production = pd.read_csv('/content/drive/MyDrive/멀티캠퍼스/2조/이경희/행정구역별 해면어업 감성돔 생산량.csv')"
      ]
    },
    {
      "cell_type": "code",
      "execution_count": 124,
      "metadata": {
        "colab": {
          "base_uri": "https://localhost:8080/"
        },
        "outputId": "a42fde62-c2eb-49cc-ea14-70bc3ea86fbd",
        "id": "6q-WthxEJx7T"
      },
      "outputs": [
        {
          "output_type": "execute_result",
          "data": {
            "text/plain": [
              "0"
            ]
          },
          "metadata": {},
          "execution_count": 124
        }
      ],
      "source": [
        "black_porgy_production.isna().sum().sum()"
      ]
    },
    {
      "cell_type": "code",
      "execution_count": 125,
      "metadata": {
        "colab": {
          "base_uri": "https://localhost:8080/"
        },
        "outputId": "e1e0e464-7833-4c6f-afb3-87a93d742b0e",
        "id": "s8wyKbT3Jx7T"
      },
      "outputs": [
        {
          "output_type": "execute_result",
          "data": {
            "text/plain": [
              "array(['부산광역시', '인천광역시', '울산광역시', '경기도', '강원도', '충청남도', '전라북도', '전라남도',\n",
              "       '경상북도', '경상남도', '제주도'], dtype=object)"
            ]
          },
          "metadata": {},
          "execution_count": 125
        }
      ],
      "source": [
        "black_porgy_production['행정구역별'].values"
      ]
    },
    {
      "cell_type": "code",
      "execution_count": 126,
      "metadata": {
        "id": "56Cregc0Jx7T"
      },
      "outputs": [],
      "source": [
        "# 컬럼명 재정의 \n",
        "for y in range(3):\n",
        "  for m in range(1,10) :\n",
        "    old_col = black_porgy_production.columns[12*y+m]\n",
        "    new_col = black_porgy_production.columns[12*y+m].replace(\" \",\"\").replace(f\"{2019+y}.0{m}월\",f\"{2019+y}.{m}\") \n",
        "    black_porgy_production.rename(columns = {old_col:new_col}, inplace =True) \n",
        "# black_porgy_production.columns[1].replace(\" \",\"\").replace(f\"{2018+1}.0{str(1)}월\",f\"{2018+1}년.{str(1)}\") \n",
        "  for m in range(10,13):\n",
        "    old_col = black_porgy_production.columns[12*y+m]\n",
        "    new_col = black_porgy_production.columns[12*y+m].replace(\" \",\"\").replace(\"월\",\"\").replace(\"년\",\"\")\n",
        "    black_porgy_production.rename(columns = {old_col:new_col}, inplace =True) "
      ]
    },
    {
      "cell_type": "code",
      "source": [
        "# black_porgy_production"
      ],
      "metadata": {
        "id": "u3k8pjeKJx7U"
      },
      "execution_count": 127,
      "outputs": []
    },
    {
      "cell_type": "markdown",
      "metadata": {
        "id": "FssTa_UNJx7U"
      },
      "source": [
        "생산량 data에서 '경기도'와 '제주도' row 제거\n",
        "\n",
        "* 생산량data의 행정구역이 총 1개로 구분되어있고, 우리가 보고자 하는 곳에서 제주도에 해당되는 곳 없음  \n",
        "→ '제주도' row 제거"
      ]
    },
    {
      "cell_type": "code",
      "execution_count": 128,
      "metadata": {
        "id": "yLFIeOKiJx7U"
      },
      "outputs": [],
      "source": [
        "black_porgy_production.drop([3,10], axis=0, inplace=True)\n",
        "black_porgy_production.reset_index(drop=True, inplace=True)"
      ]
    },
    {
      "cell_type": "code",
      "source": [
        "# len(black_porgy_production['행정구역별'].values)"
      ],
      "metadata": {
        "id": "cwY3uYqDyzXK"
      },
      "execution_count": 129,
      "outputs": []
    },
    {
      "cell_type": "code",
      "source": [
        "# black_porgy_production"
      ],
      "metadata": {
        "id": "_7UfFHhrJx7U"
      },
      "execution_count": 130,
      "outputs": []
    },
    {
      "cell_type": "markdown",
      "metadata": {
        "id": "Gp8xQFpRJx7U"
      },
      "source": [
        "평균가 data에서 각 행정구역에 해당하는 지역별 월별 평균냄 \n",
        "  → 그럼 생산량 data와 같은 형태로 9개의 행정구역으로 구분됨  "
      ]
    },
    {
      "cell_type": "code",
      "execution_count": 131,
      "metadata": {
        "id": "pC0DYkj2Jx7U"
      },
      "outputs": [],
      "source": [
        "df = pd.read_csv('/content/drive/MyDrive/멀티캠퍼스/2조/이경희/수산물_위판정보_전처리완료.csv')\n",
        "black_porgy_df = df[df['수산물표준코드명'] == '감성돔']\n",
        "black_porgy_df.reset_index(drop=True, inplace=True)"
      ]
    },
    {
      "cell_type": "code",
      "execution_count": 132,
      "metadata": {
        "id": "GCZ3mIY4Jx7U"
      },
      "outputs": [],
      "source": [
        "# 월별 평균가를 넣은 df형식을 생산량df 형태와 동일하도록 복사해옴\n",
        "from copy import deepcopy\n",
        "black_porgy_price = deepcopy(black_porgy_production)\n",
        "black_porgy_price.set_index('행정구역별',inplace=True)\n",
        "\n",
        "# black_porgy_price 의 모든 값을 0으로 초기화\n",
        "for row in range(len(black_porgy_price)):\n",
        "  for col in range(len(black_porgy_price.columns)):\n",
        "    black_porgy_price.iloc[row,col] = 0"
      ]
    },
    {
      "cell_type": "code",
      "execution_count": 133,
      "metadata": {
        "colab": {
          "base_uri": "https://localhost:8080/"
        },
        "outputId": "75fe006f-4106-45b9-a664-533c3d6103f8",
        "id": "qWWNK58lJx7U"
      },
      "outputs": [
        {
          "output_type": "stream",
          "name": "stderr",
          "text": [
            "/usr/local/lib/python3.7/dist-packages/pandas/core/indexing.py:1817: SettingWithCopyWarning: \n",
            "A value is trying to be set on a copy of a slice from a DataFrame.\n",
            "Try using .loc[row_indexer,col_indexer] = value instead\n",
            "\n",
            "See the caveats in the documentation: https://pandas.pydata.org/pandas-docs/stable/user_guide/indexing.html#returning-a-view-versus-a-copy\n",
            "  self._setitem_single_column(loc, value, pi)\n"
          ]
        }
      ],
      "source": [
        "for row in range(len(black_porgy_df)):\n",
        "  black_porgy_df.loc[row, '위판일자'] = black_porgy_df.loc[row, '위판일자'].replace('-0','-')"
      ]
    },
    {
      "cell_type": "code",
      "execution_count": 134,
      "metadata": {
        "id": "hRlPta7fJx7V"
      },
      "outputs": [],
      "source": [
        "# 각 행정구역에 해당하는 지역별로 평균내기\n",
        "for y in range(3): \n",
        "  for m in range(1,13) :   \n",
        "    Busan, Incheon, Ulsan, Gangwon, Chungnam, Jeonbuk, Jeonnam, Gyeongbuk, Gyeongnam = [], [], [], [], [], [], [], [], []\n",
        "    for d in range(1,32): \n",
        "      for row in range(len(black_porgy_df)):\n",
        "        if black_porgy_df.loc[row,'산지조합명'] == '부산시' and black_porgy_df.loc[row,'위판일자'] == f'{2019+y}-{m}-{d}' : Busan.append(black_porgy_df.loc[row,'평균가'])\n",
        "        elif black_porgy_df.loc[row,'산지조합명'] == '인천' and black_porgy_df.loc[row,'위판일자'] == f'{2019+y}-{m}-{d}' : Incheon.append(black_porgy_df.loc[row,'평균가'])\n",
        "        elif black_porgy_df.loc[row,'산지조합명'] == '울산' and black_porgy_df.loc[row,'위판일자'] == f'{2019+y}-{m}-{d}' : Ulsan.append(black_porgy_df.loc[row,'평균가'])\n",
        "        elif (black_porgy_df.loc[row,'산지조합명'] == '삼척' or black_porgy_df.loc[row,'산지조합명'] == '강릉시' or black_porgy_df.loc[row,'산지조합명'] == '속초시' or black_porgy_df.loc[row,'산지조합명'] == '동해시') and black_porgy_df.loc[row,'위판일자'] == f'{2019+y}-{m}-{d}' : Gangwon.append(black_porgy_df.loc[row,'평균가'])\n",
        "        elif (black_porgy_df.loc[row,'산지조합명'] == '서산' or black_porgy_df.loc[row,'산지조합명'] == '안면도' or black_porgy_df.loc[row,'산지조합명'] == '대천서부' or black_porgy_df.loc[row,'산지조합명'] == '서천서부') and black_porgy_df.loc[row,'위판일자'] == f'{2019+y}-{m}-{d}' : Chungnam.append(black_porgy_df.loc[row,'평균가'])\n",
        "        elif black_porgy_df.loc[row,'산지조합명'] == '군산시' and black_porgy_df.loc[row,'위판일자'] == f'{2019+y}-{m}-{d}' : Jeonbuk.append(black_porgy_df.loc[row,'평균가'])\n",
        "        elif (black_porgy_df.loc[row,'산지조합명'] == '삼척' or black_porgy_df.loc[row,'산지조합명'] == '목포' or black_porgy_df.loc[row,'산지조합명'] == '전남서부어류양식' or black_porgy_df.loc[row,'산지조합명'] == '고흥군' or black_porgy_df.loc[row,'산지조합명'] == '여수') and black_porgy_df.loc[row,'위판일자'] == f'{2019+y}-{m}-{d}' : Jeonnam.append(black_porgy_df.loc[row,'평균가'])\n",
        "        elif black_porgy_df.loc[row,'산지조합명'] == '포항' and black_porgy_df.loc[row,'위판일자'] == f'{2019+y}-{m}-{d}' : Gyeongbuk.append(black_porgy_df.loc[row,'평균가'])\n",
        "        elif (black_porgy_df.loc[row,'산지조합명'] == '남해군' or black_porgy_df.loc[row,'산지조합명'] == '통영' or black_porgy_df.loc[row,'산지조합명'] == '거제') and black_porgy_df.loc[row,'위판일자'] == f'{2019+y}-{m}-{d}' : Gyeongnam.append(black_porgy_df.loc[row,'평균가'])\n",
        "    try : black_porgy_price.loc['부산광역시',f'{2019+y}.{m}'] = round(sum(Busan)/len(Busan), 1)\n",
        "    except : pass\n",
        "    try : black_porgy_price.loc['인천광역시',f'{2019+y}.{m}'] = round(sum(Incheon)/len(Incheon), 1)\n",
        "    except : pass\n",
        "    try : black_porgy_price.loc['울산광역시',f'{2019+y}.{m}'] = round(sum(Ulsan)/len(Ulsan), 1)\n",
        "    except : pass\n",
        "    try : black_porgy_price.loc['강원도',f'{2019+y}.{m}'] = round(sum(Gangwon)/len(Gangwon), 1)\n",
        "    except : pass\n",
        "    try : black_porgy_price.loc['충청남도',f'{2019+y}.{m}'] = round(sum(Chungnam)/len(Chungnam), 1)\n",
        "    except : pass\n",
        "    try : black_porgy_price.loc['전라북도',f'{2019+y}.{m}'] = round(sum(Jeonbuk)/len(Jeonbuk), 1)\n",
        "    except : pass\n",
        "    try : black_porgy_price.loc['전라남도',f'{2019+y}.{m}'] = round(sum(Jeonnam)/len(Jeonnam), 1)\n",
        "    except : pass\n",
        "    try : black_porgy_price.loc['경상북도',f'{2019+y}.{m}'] = round(sum(Gyeongbuk)/len(Gyeongbuk), 1)\n",
        "    except : pass\n",
        "    try : black_porgy_price.loc['경상남도',f'{2019+y}.{m}'] = round(sum(Gyeongnam)/len(Gyeongnam), 1)\n",
        "    except : pass"
      ]
    },
    {
      "cell_type": "code",
      "execution_count": 136,
      "metadata": {
        "id": "f_AuuAyCJx7V"
      },
      "outputs": [],
      "source": [
        "# 행정구역별_월별_광어_평균가\n",
        "# pd.DataFrame(black_porgy_price).to_csv('/content/drive/MyDrive/멀티캠퍼스/2조/이경희/행정구역별_평균가_감성돔.csv')"
      ]
    }
  ],
  "metadata": {
    "colab": {
      "name": "생산량_평균가_해면어업(전처리).ipynb",
      "provenance": [],
      "collapsed_sections": []
    },
    "kernelspec": {
      "display_name": "Python 3",
      "name": "python3"
    },
    "language_info": {
      "name": "python"
    }
  },
  "nbformat": 4,
  "nbformat_minor": 0
}