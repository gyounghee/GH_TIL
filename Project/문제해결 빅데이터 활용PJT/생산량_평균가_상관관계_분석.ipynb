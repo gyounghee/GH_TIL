{
  "nbformat": 4,
  "nbformat_minor": 0,
  "metadata": {
    "colab": {
      "name": "생산량_평균가 상관관계 분석.ipynb",
      "provenance": [],
      "collapsed_sections": []
    },
    "kernelspec": {
      "name": "python3",
      "display_name": "Python 3"
    },
    "language_info": {
      "name": "python"
    }
  },
  "cells": [
    {
      "cell_type": "code",
      "execution_count": 1,
      "metadata": {
        "colab": {
          "base_uri": "https://localhost:8080/"
        },
        "id": "tBRGwXwSFuC7",
        "outputId": "930f2117-003a-4266-9b31-c6f3cbc29e4f"
      },
      "outputs": [
        {
          "output_type": "stream",
          "name": "stdout",
          "text": [
            "Reading package lists... Done\n",
            "Building dependency tree       \n",
            "Reading state information... Done\n",
            "Note, selecting 'fonts-nanum-eco' for glob 'fonts-nanum*'\n",
            "Note, selecting 'fonts-nanum' for glob 'fonts-nanum*'\n",
            "Note, selecting 'fonts-nanum-gothic-light' for glob 'fonts-nanum*'\n",
            "Note, selecting 'fonts-nanum-coding' for glob 'fonts-nanum*'\n",
            "Note, selecting 'fonts-nanum-extra' for glob 'fonts-nanum*'\n",
            "fonts-nanum is already the newest version (20170925-1).\n",
            "fonts-nanum-coding is already the newest version (2.5-1).\n",
            "fonts-nanum-eco is already the newest version (1.000-6).\n",
            "fonts-nanum-extra is already the newest version (20170925-1).\n",
            "The following package was automatically installed and is no longer required:\n",
            "  libnvidia-common-470\n",
            "Use 'apt autoremove' to remove it.\n",
            "0 upgraded, 0 newly installed, 0 to remove and 39 not upgraded.\n"
          ]
        }
      ],
      "source": [
        "# 한글화\n",
        "from matplotlib import font_manager, rcParams\n",
        "!apt-get install fonts-nanum*\n",
        "rcParams['font.family'] = 'NanumGothicCoding'\n",
        "rcParams['axes.unicode_minus'] = False\n",
        "font_manager._rebuild()"
      ]
    },
    {
      "cell_type": "code",
      "source": [
        "import pandas as pd\n",
        "\n",
        "import matplotlib.pyplot as plt\n",
        "import seaborn as sns\n",
        "\n",
        "import warnings\n",
        "warnings.filterwarnings('ignore')"
      ],
      "metadata": {
        "id": "DNicWXmKGH5F"
      },
      "execution_count": 2,
      "outputs": []
    },
    {
      "cell_type": "code",
      "source": [
        "# 생산량\n",
        "production = pd.read_csv('/content/drive/MyDrive/멀티캠퍼스/2조/김용현/완료data/생산량/전국 해면어업 품종별 생산량.csv')\n",
        "\n",
        "# 평균가\n",
        "price = pd.read_csv('/content/drive/MyDrive/멀티캠퍼스/2조/이경희/수산물_위판정보_전처리완료.csv')"
      ],
      "metadata": {
        "id": "q1llHDNVW7ka"
      },
      "execution_count": 3,
      "outputs": []
    },
    {
      "cell_type": "markdown",
      "source": [
        "# 광어 생산량_평균가 상관관계"
      ],
      "metadata": {
        "id": "Qs8kHFAcGTri"
      }
    },
    {
      "cell_type": "code",
      "source": [
        "# `수산물_위판정보_전처리완료`에서 광어만 뽑아옴 \n",
        "ff_price = price[price['수산물표준코드명'] == '광어']\n",
        "ff_price.reset_index(drop=True, inplace=True)\n",
        "\n",
        "for row in range(len(ff_price)):\n",
        "  ff_price.loc[row, '위판일자'] = ff_price.loc[row, '위판일자'].replace('-0','-').replace(\"-\",\".\")"
      ],
      "metadata": {
        "id": "p8GQRzeJF-kj"
      },
      "execution_count": 4,
      "outputs": []
    },
    {
      "cell_type": "code",
      "source": [
        "# 19년도부터 21년도까지 총 36개월 생산량 자료 구해서 list로   \n",
        "ff_price_list = []\n",
        "for y in range(3):\n",
        "  for m in range(1,13):\n",
        "    month_price = []\n",
        "    for d in range(1,32):\n",
        "      if ff_price[ff_price['위판일자'] == f'{2019+y}.{m}.{d}']['평균가'].values.mean() >= 0 : \n",
        "        month_price.append(ff_price[ff_price['위판일자'] == f'{2019+y}.{m}.{d}']['평균가'].values.mean())\n",
        "    ff_price_list.append( round( sum(month_price) / len(month_price), 2 ) )"
      ],
      "metadata": {
        "id": "TKUNaDEMYyCK"
      },
      "execution_count": 5,
      "outputs": []
    },
    {
      "cell_type": "code",
      "source": [
        "# 해면어업 품종별 생산량에서 광어만 뽑음\n",
        "ff_production = production[production['품종별'] == '넙치류'].reset_index(drop=True)\n",
        "\n",
        "# 계산하기 편하게하기 위해 컬럼명 바꿔줌\n",
        "for col in range(1,len(ff_production.columns) ) :\n",
        "  old_col = ff_production.columns[col]\n",
        "  new_col = ff_production.columns[col].replace(\".0\",\".\").replace(\"월\",\"\").replace(\" \",\"\")\n",
        "  ff_production.rename(columns={ old_col : new_col },inplace=True)"
      ],
      "metadata": {
        "id": "3vr9gj4qG8Ts"
      },
      "execution_count": 6,
      "outputs": []
    },
    {
      "cell_type": "code",
      "source": [
        "# 광어\n",
        "ff_corr = {'일자': list(ff_production.columns[1:].values), '생산량': list(ff_production.iloc[0,1:].values), '평균가': ff_price_list} \n",
        "ff_corr = pd.DataFrame(ff_corr)\n",
        "# ff_corr"
      ],
      "metadata": {
        "id": "hiwVWWjfJpfV"
      },
      "execution_count": 7,
      "outputs": []
    },
    {
      "cell_type": "code",
      "source": [
        "plt.figure( figsize= (6,5) )\n",
        "plt.title(' 광어 생산량_평균가 상관관계 분석 ', fontsize = 20)\n",
        "sns.heatmap( data = ff_corr.corr(method='pearson'), annot=True, fmt='.3f', linewidths=.5, cmap='Blues',annot_kws = {'size' : 14})"
      ],
      "metadata": {
        "colab": {
          "base_uri": "https://localhost:8080/",
          "height": 359
        },
        "id": "1dDDMX7wNVLj",
        "outputId": "970e411c-8838-4af1-a3a3-609045f9527a"
      },
      "execution_count": 8,
      "outputs": [
        {
          "output_type": "execute_result",
          "data": {
            "text/plain": [
              "<matplotlib.axes._subplots.AxesSubplot at 0x7f93e9bb3050>"
            ]
          },
          "metadata": {},
          "execution_count": 8
        },
        {
          "output_type": "display_data",
          "data": {
            "image/png": "[encoded data removed]",
            "text/plain": [
              "<Figure size 432x360 with 2 Axes>"
            ]
          },
          "metadata": {
            "needs_background": "light"
          }
        }
      ]
    },
    {
      "cell_type": "markdown",
      "source": [
        "# 방어 생산량_평균가 상관관계"
      ],
      "metadata": {
        "id": "Yj0DmQXsOGpr"
      }
    },
    {
      "cell_type": "code",
      "source": [
        "# `수산물_위판정보_전처리완료`에서 방어만 뽑아옴 \n",
        "yt_price = price[price['수산물표준코드명'] == '방어']\n",
        "yt_price.reset_index(drop=True, inplace=True)\n",
        "\n",
        "for row in range(len(yt_price)):\n",
        "  yt_price.loc[row, '위판일자'] = yt_price.loc[row, '위판일자'].replace('-0','-').replace(\"-\",\".\")\n",
        "\n",
        "# 19년도부터 21년도까지 총 36개월 생산량 자료 구해서 list로   \n",
        "yt_price_list = []\n",
        "for y in range(3):\n",
        "  for m in range(1,13):\n",
        "    month_price = []\n",
        "    for d in range(1,32):\n",
        "      if yt_price[yt_price['위판일자'] == f'{2019+y}.{m}.{d}']['평균가'].values.mean() >= 0 : \n",
        "        month_price.append(yt_price[yt_price['위판일자'] == f'{2019+y}.{m}.{d}']['평균가'].values.mean())\n",
        "    yt_price_list.append( round( sum(month_price) / len(month_price), 2 ) )"
      ],
      "metadata": {
        "id": "Bow3YV2CjOzA"
      },
      "execution_count": 9,
      "outputs": []
    },
    {
      "cell_type": "code",
      "source": [
        "# 해면어업 품종별 생산량에서 방어만 뽑음\n",
        "yt_production = production[production['품종별'] == '방어류'].reset_index(drop=True)\n",
        "\n",
        "# 계산하기 편하게하기 위해 컬럼명 바꿔줌\n",
        "for col in range(1,len(yt_production.columns) ) :\n",
        "  old_col = yt_production.columns[col]\n",
        "  new_col = yt_production.columns[col].replace(\".0\",\".\").replace(\"월\",\"\").replace(\" \",\"\")\n",
        "  yt_production.rename(columns={ old_col : new_col },inplace=True)"
      ],
      "metadata": {
        "id": "G2ILCz39jOzC"
      },
      "execution_count": 10,
      "outputs": []
    },
    {
      "cell_type": "code",
      "source": [
        "# 방어\n",
        "yt_corr = {'일자': list(yt_production.columns[1:].values), '생산량': list(yt_production.iloc[0,1:].values), '평균가': yt_price_list} \n",
        "yt_corr = pd.DataFrame(yt_corr)\n",
        "# yt_corr"
      ],
      "metadata": {
        "id": "d6c_b-__jOzD"
      },
      "execution_count": 11,
      "outputs": []
    },
    {
      "cell_type": "code",
      "source": [
        "plt.figure( figsize= (6,5) )\n",
        "plt.title(' 방어 생산량_평균가 상관관계 분석 ', fontsize = 20)\n",
        "sns.heatmap( data = yt_corr.corr(method='pearson'), annot=True, fmt='.3f', linewidths=.5, cmap='Blues',annot_kws = {'size' : 14})"
      ],
      "metadata": {
        "colab": {
          "base_uri": "https://localhost:8080/",
          "height": 358
        },
        "outputId": "f5e29d30-002a-418b-cec4-99898649ee1d",
        "id": "7V5Vj45cjOzE"
      },
      "execution_count": 12,
      "outputs": [
        {
          "output_type": "execute_result",
          "data": {
            "text/plain": [
              "<matplotlib.axes._subplots.AxesSubplot at 0x7f93e6c72390>"
            ]
          },
          "metadata": {},
          "execution_count": 12
        },
        {
          "output_type": "display_data",
          "data": {
            "image/png": "[encoded data removed]",
            "text/plain": [
              "<Figure size 432x360 with 2 Axes>"
            ]
          },
          "metadata": {
            "needs_background": "light"
          }
        }
      ]
    },
    {
      "cell_type": "markdown",
      "source": [
        "# 감성돔 생산량_평균가 상관관계"
      ],
      "metadata": {
        "id": "3bVQYfoNPWUj"
      }
    },
    {
      "cell_type": "code",
      "source": [
        "# `수산물_위판정보_전처리완료`에서 감성돔만 뽑아옴 \n",
        "bp_price = price[price['수산물표준코드명'] == '감성돔']\n",
        "bp_price.reset_index(drop=True, inplace=True)\n",
        "\n",
        "for row in range(len(bp_price)):\n",
        "  bp_price.loc[row, '위판일자'] = bp_price.loc[row, '위판일자'].replace('-0','-').replace(\"-\",\".\")\n",
        "\n",
        "# 19년도부터 21년도까지 총 36개월 생산량 자료 구해서 list로   \n",
        "bp_price_list = []\n",
        "for y in range(3):\n",
        "  for m in range(1,13):\n",
        "    month_price = []\n",
        "    for d in range(1,32):\n",
        "      if bp_price[bp_price['위판일자'] == f'{2019+y}.{m}.{d}']['평균가'].values.mean() >= 0 : \n",
        "        month_price.append(bp_price[bp_price['위판일자'] == f'{2019+y}.{m}.{d}']['평균가'].values.mean())\n",
        "    bp_price_list.append( round( sum(month_price) / len(month_price), 2 ) )"
      ],
      "metadata": {
        "id": "qEM4VkCckATA"
      },
      "execution_count": 13,
      "outputs": []
    },
    {
      "cell_type": "code",
      "source": [
        "# 해면어업 품종별 생산량에서 감성돔만 뽑음\n",
        "bp_production = production[production['품종별'] == '감성돔'].reset_index(drop=True)\n",
        "\n",
        "# 계산하기 편하게하기 위해 컬럼명 바꿔줌\n",
        "for col in range(1,len(bp_production.columns) ) :\n",
        "  old_col = bp_production.columns[col]\n",
        "  new_col = bp_production.columns[col].replace(\".0\",\".\").replace(\"월\",\"\").replace(\" \",\"\")\n",
        "  bp_production.rename(columns={ old_col : new_col },inplace=True)"
      ],
      "metadata": {
        "id": "FEHiiH5ukATB"
      },
      "execution_count": 14,
      "outputs": []
    },
    {
      "cell_type": "code",
      "source": [
        "# 감성돔\n",
        "bp_corr = {'일자': list(bp_production.columns[1:].values), '생산량': list(bp_production.iloc[0,1:].values), '평균가': bp_price_list} \n",
        "bp_corr = pd.DataFrame(bp_corr)\n",
        "# bp_corr"
      ],
      "metadata": {
        "id": "ONlRxXBwkATB"
      },
      "execution_count": 15,
      "outputs": []
    },
    {
      "cell_type": "code",
      "source": [
        "plt.figure( figsize= (6,5) )\n",
        "plt.title(' 감성돔 생산량_평균가 상관관계 분석 ', fontsize = 20)\n",
        "sns.heatmap( data = bp_corr.corr(method='pearson'), annot=True, fmt='.3f', linewidths=.5, cmap='Blues',annot_kws = {'size' : 14})"
      ],
      "metadata": {
        "colab": {
          "base_uri": "https://localhost:8080/",
          "height": 358
        },
        "outputId": "feb7fc0d-1836-438d-eb7a-09758d8ae7c2",
        "id": "50xJ3HHjkATB"
      },
      "execution_count": 16,
      "outputs": [
        {
          "output_type": "execute_result",
          "data": {
            "text/plain": [
              "<matplotlib.axes._subplots.AxesSubplot at 0x7f93e6b8ef10>"
            ]
          },
          "metadata": {},
          "execution_count": 16
        },
        {
          "output_type": "display_data",
          "data": {
            "image/png": "[encoded data removed]",
            "text/plain": [
              "<Figure size 432x360 with 2 Axes>"
            ]
          },
          "metadata": {
            "needs_background": "light"
          }
        }
      ]
    }
  ]
}